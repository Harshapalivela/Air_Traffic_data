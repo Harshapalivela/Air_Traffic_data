{
  "nbformat": 4,
  "nbformat_minor": 0,
  "metadata": {
    "colab": {
      "name": "Final_verdict",
      "provenance": [],
      "collapsed_sections": []
    },
    "kernelspec": {
      "name": "python3",
      "display_name": "Python 3"
    },
    "language_info": {
      "name": "python"
    }
  },
  "cells": [
    {
      "cell_type": "markdown",
      "metadata": {
        "id": "8i7PxLMAzOCd"
      },
      "source": [
        "# **Objective: Prediction of Adjusted Passenger Count at an Airport Terminal**\n",
        "## *Dataset Link: https://www.kaggle.com/rohanshetty678/air-traffic-data*\n"
      ]
    },
    {
      "cell_type": "markdown",
      "metadata": {
        "id": "PwOan6zN0WSW"
      },
      "source": [
        "**1. Import necessary libraries**"
      ]
    },
    {
      "cell_type": "code",
      "metadata": {
        "id": "cnZhN7mP0U1P"
      },
      "source": [
        "import pandas as pd\n",
        "import numpy as np\n",
        "import matplotlib.pyplot as plt\n",
        "import seaborn as sns\n",
        "%matplotlib inline"
      ],
      "execution_count": 1,
      "outputs": []
    },
    {
      "cell_type": "markdown",
      "metadata": {
        "id": "Dk5rO1M70iIa"
      },
      "source": [
        "**2. Load the dataset**"
      ]
    },
    {
      "cell_type": "code",
      "metadata": {
        "id": "PvRB-zCl0f9M"
      },
      "source": [
        "dataset=pd.read_csv('/content/air_traffic_data.csv')\n",
        "df=dataset"
      ],
      "execution_count": 2,
      "outputs": []
    },
    {
      "cell_type": "markdown",
      "metadata": {
        "id": "niKxNGDH1Jx8"
      },
      "source": [
        "**3. Exploratory Data Analysis and Data Preprocessing**"
      ]
    },
    {
      "cell_type": "code",
      "metadata": {
        "colab": {
          "base_uri": "https://localhost:8080/",
          "height": 323
        },
        "id": "72KDzV551JR6",
        "outputId": "a5f4ef0b-98e2-465a-bc0f-6ce41058a765"
      },
      "source": [
        "# view the first five rows of the dataset.\n",
        "dataset.head()"
      ],
      "execution_count": 3,
      "outputs": [
        {
          "output_type": "execute_result",
          "data": {
            "text/html": [
              "<div>\n",
              "<style scoped>\n",
              "    .dataframe tbody tr th:only-of-type {\n",
              "        vertical-align: middle;\n",
              "    }\n",
              "\n",
              "    .dataframe tbody tr th {\n",
              "        vertical-align: top;\n",
              "    }\n",
              "\n",
              "    .dataframe thead th {\n",
              "        text-align: right;\n",
              "    }\n",
              "</style>\n",
              "<table border=\"1\" class=\"dataframe\">\n",
              "  <thead>\n",
              "    <tr style=\"text-align: right;\">\n",
              "      <th></th>\n",
              "      <th>Activity Period</th>\n",
              "      <th>Operating Airline</th>\n",
              "      <th>Operating Airline IATA Code</th>\n",
              "      <th>Published Airline</th>\n",
              "      <th>Published Airline IATA Code</th>\n",
              "      <th>GEO Summary</th>\n",
              "      <th>GEO Region</th>\n",
              "      <th>Activity Type Code</th>\n",
              "      <th>Price Category Code</th>\n",
              "      <th>Terminal</th>\n",
              "      <th>Boarding Area</th>\n",
              "      <th>Passenger Count</th>\n",
              "      <th>Adjusted Activity Type Code</th>\n",
              "      <th>Adjusted Passenger Count</th>\n",
              "      <th>Year</th>\n",
              "      <th>Month</th>\n",
              "    </tr>\n",
              "  </thead>\n",
              "  <tbody>\n",
              "    <tr>\n",
              "      <th>0</th>\n",
              "      <td>200507</td>\n",
              "      <td>ATA Airlines</td>\n",
              "      <td>TZ</td>\n",
              "      <td>ATA Airlines</td>\n",
              "      <td>TZ</td>\n",
              "      <td>Domestic</td>\n",
              "      <td>US</td>\n",
              "      <td>Deplaned</td>\n",
              "      <td>Low Fare</td>\n",
              "      <td>Terminal 1</td>\n",
              "      <td>B</td>\n",
              "      <td>27271</td>\n",
              "      <td>Deplaned</td>\n",
              "      <td>27271</td>\n",
              "      <td>2005</td>\n",
              "      <td>July</td>\n",
              "    </tr>\n",
              "    <tr>\n",
              "      <th>1</th>\n",
              "      <td>200507</td>\n",
              "      <td>ATA Airlines</td>\n",
              "      <td>TZ</td>\n",
              "      <td>ATA Airlines</td>\n",
              "      <td>TZ</td>\n",
              "      <td>Domestic</td>\n",
              "      <td>US</td>\n",
              "      <td>Enplaned</td>\n",
              "      <td>Low Fare</td>\n",
              "      <td>Terminal 1</td>\n",
              "      <td>B</td>\n",
              "      <td>29131</td>\n",
              "      <td>Enplaned</td>\n",
              "      <td>29131</td>\n",
              "      <td>2005</td>\n",
              "      <td>July</td>\n",
              "    </tr>\n",
              "    <tr>\n",
              "      <th>2</th>\n",
              "      <td>200507</td>\n",
              "      <td>ATA Airlines</td>\n",
              "      <td>TZ</td>\n",
              "      <td>ATA Airlines</td>\n",
              "      <td>TZ</td>\n",
              "      <td>Domestic</td>\n",
              "      <td>US</td>\n",
              "      <td>Thru / Transit</td>\n",
              "      <td>Low Fare</td>\n",
              "      <td>Terminal 1</td>\n",
              "      <td>B</td>\n",
              "      <td>5415</td>\n",
              "      <td>Thru / Transit * 2</td>\n",
              "      <td>10830</td>\n",
              "      <td>2005</td>\n",
              "      <td>July</td>\n",
              "    </tr>\n",
              "    <tr>\n",
              "      <th>3</th>\n",
              "      <td>200507</td>\n",
              "      <td>Air Canada</td>\n",
              "      <td>AC</td>\n",
              "      <td>Air Canada</td>\n",
              "      <td>AC</td>\n",
              "      <td>International</td>\n",
              "      <td>Canada</td>\n",
              "      <td>Deplaned</td>\n",
              "      <td>Other</td>\n",
              "      <td>Terminal 1</td>\n",
              "      <td>B</td>\n",
              "      <td>35156</td>\n",
              "      <td>Deplaned</td>\n",
              "      <td>35156</td>\n",
              "      <td>2005</td>\n",
              "      <td>July</td>\n",
              "    </tr>\n",
              "    <tr>\n",
              "      <th>4</th>\n",
              "      <td>200507</td>\n",
              "      <td>Air Canada</td>\n",
              "      <td>AC</td>\n",
              "      <td>Air Canada</td>\n",
              "      <td>AC</td>\n",
              "      <td>International</td>\n",
              "      <td>Canada</td>\n",
              "      <td>Enplaned</td>\n",
              "      <td>Other</td>\n",
              "      <td>Terminal 1</td>\n",
              "      <td>B</td>\n",
              "      <td>34090</td>\n",
              "      <td>Enplaned</td>\n",
              "      <td>34090</td>\n",
              "      <td>2005</td>\n",
              "      <td>July</td>\n",
              "    </tr>\n",
              "  </tbody>\n",
              "</table>\n",
              "</div>"
            ],
            "text/plain": [
              "   Activity Period Operating Airline  ...  Year Month\n",
              "0           200507      ATA Airlines  ...  2005  July\n",
              "1           200507      ATA Airlines  ...  2005  July\n",
              "2           200507      ATA Airlines  ...  2005  July\n",
              "3           200507       Air Canada   ...  2005  July\n",
              "4           200507       Air Canada   ...  2005  July\n",
              "\n",
              "[5 rows x 16 columns]"
            ]
          },
          "metadata": {
            "tags": []
          },
          "execution_count": 3
        }
      ]
    },
    {
      "cell_type": "code",
      "metadata": {
        "colab": {
          "base_uri": "https://localhost:8080/",
          "height": 323
        },
        "id": "NRKZlgal-S5t",
        "outputId": "47e7807c-2365-4a88-e9c8-81d5b8850c59"
      },
      "source": [
        "# Last five rows \n",
        "dataset.tail()"
      ],
      "execution_count": 4,
      "outputs": [
        {
          "output_type": "execute_result",
          "data": {
            "text/html": [
              "<div>\n",
              "<style scoped>\n",
              "    .dataframe tbody tr th:only-of-type {\n",
              "        vertical-align: middle;\n",
              "    }\n",
              "\n",
              "    .dataframe tbody tr th {\n",
              "        vertical-align: top;\n",
              "    }\n",
              "\n",
              "    .dataframe thead th {\n",
              "        text-align: right;\n",
              "    }\n",
              "</style>\n",
              "<table border=\"1\" class=\"dataframe\">\n",
              "  <thead>\n",
              "    <tr style=\"text-align: right;\">\n",
              "      <th></th>\n",
              "      <th>Activity Period</th>\n",
              "      <th>Operating Airline</th>\n",
              "      <th>Operating Airline IATA Code</th>\n",
              "      <th>Published Airline</th>\n",
              "      <th>Published Airline IATA Code</th>\n",
              "      <th>GEO Summary</th>\n",
              "      <th>GEO Region</th>\n",
              "      <th>Activity Type Code</th>\n",
              "      <th>Price Category Code</th>\n",
              "      <th>Terminal</th>\n",
              "      <th>Boarding Area</th>\n",
              "      <th>Passenger Count</th>\n",
              "      <th>Adjusted Activity Type Code</th>\n",
              "      <th>Adjusted Passenger Count</th>\n",
              "      <th>Year</th>\n",
              "      <th>Month</th>\n",
              "    </tr>\n",
              "  </thead>\n",
              "  <tbody>\n",
              "    <tr>\n",
              "      <th>15002</th>\n",
              "      <td>201603</td>\n",
              "      <td>Virgin America</td>\n",
              "      <td>VX</td>\n",
              "      <td>Virgin America</td>\n",
              "      <td>VX</td>\n",
              "      <td>Domestic</td>\n",
              "      <td>US</td>\n",
              "      <td>Enplaned</td>\n",
              "      <td>Low Fare</td>\n",
              "      <td>Terminal 2</td>\n",
              "      <td>D</td>\n",
              "      <td>194636</td>\n",
              "      <td>Enplaned</td>\n",
              "      <td>194636</td>\n",
              "      <td>2016</td>\n",
              "      <td>March</td>\n",
              "    </tr>\n",
              "    <tr>\n",
              "      <th>15003</th>\n",
              "      <td>201603</td>\n",
              "      <td>Virgin America</td>\n",
              "      <td>VX</td>\n",
              "      <td>Virgin America</td>\n",
              "      <td>VX</td>\n",
              "      <td>International</td>\n",
              "      <td>Mexico</td>\n",
              "      <td>Deplaned</td>\n",
              "      <td>Low Fare</td>\n",
              "      <td>International</td>\n",
              "      <td>A</td>\n",
              "      <td>4189</td>\n",
              "      <td>Deplaned</td>\n",
              "      <td>4189</td>\n",
              "      <td>2016</td>\n",
              "      <td>March</td>\n",
              "    </tr>\n",
              "    <tr>\n",
              "      <th>15004</th>\n",
              "      <td>201603</td>\n",
              "      <td>Virgin America</td>\n",
              "      <td>VX</td>\n",
              "      <td>Virgin America</td>\n",
              "      <td>VX</td>\n",
              "      <td>International</td>\n",
              "      <td>Mexico</td>\n",
              "      <td>Enplaned</td>\n",
              "      <td>Low Fare</td>\n",
              "      <td>Terminal 2</td>\n",
              "      <td>D</td>\n",
              "      <td>4693</td>\n",
              "      <td>Enplaned</td>\n",
              "      <td>4693</td>\n",
              "      <td>2016</td>\n",
              "      <td>March</td>\n",
              "    </tr>\n",
              "    <tr>\n",
              "      <th>15005</th>\n",
              "      <td>201603</td>\n",
              "      <td>Virgin Atlantic</td>\n",
              "      <td>VS</td>\n",
              "      <td>Virgin Atlantic</td>\n",
              "      <td>VS</td>\n",
              "      <td>International</td>\n",
              "      <td>Europe</td>\n",
              "      <td>Deplaned</td>\n",
              "      <td>Other</td>\n",
              "      <td>International</td>\n",
              "      <td>A</td>\n",
              "      <td>12313</td>\n",
              "      <td>Deplaned</td>\n",
              "      <td>12313</td>\n",
              "      <td>2016</td>\n",
              "      <td>March</td>\n",
              "    </tr>\n",
              "    <tr>\n",
              "      <th>15006</th>\n",
              "      <td>201603</td>\n",
              "      <td>Virgin Atlantic</td>\n",
              "      <td>VS</td>\n",
              "      <td>Virgin Atlantic</td>\n",
              "      <td>VS</td>\n",
              "      <td>International</td>\n",
              "      <td>Europe</td>\n",
              "      <td>Enplaned</td>\n",
              "      <td>Other</td>\n",
              "      <td>International</td>\n",
              "      <td>A</td>\n",
              "      <td>10898</td>\n",
              "      <td>Enplaned</td>\n",
              "      <td>10898</td>\n",
              "      <td>2016</td>\n",
              "      <td>March</td>\n",
              "    </tr>\n",
              "  </tbody>\n",
              "</table>\n",
              "</div>"
            ],
            "text/plain": [
              "       Activity Period Operating Airline  ...  Year  Month\n",
              "15002           201603    Virgin America  ...  2016  March\n",
              "15003           201603    Virgin America  ...  2016  March\n",
              "15004           201603    Virgin America  ...  2016  March\n",
              "15005           201603   Virgin Atlantic  ...  2016  March\n",
              "15006           201603   Virgin Atlantic  ...  2016  March\n",
              "\n",
              "[5 rows x 16 columns]"
            ]
          },
          "metadata": {
            "tags": []
          },
          "execution_count": 4
        }
      ]
    },
    {
      "cell_type": "code",
      "metadata": {
        "colab": {
          "base_uri": "https://localhost:8080/"
        },
        "id": "Ylt3wOlp4vZP",
        "outputId": "35bdf817-8136-430e-fbb2-262a264b3510"
      },
      "source": [
        "# size of the data.\n",
        "dataset.shape"
      ],
      "execution_count": 5,
      "outputs": [
        {
          "output_type": "execute_result",
          "data": {
            "text/plain": [
              "(15007, 16)"
            ]
          },
          "metadata": {
            "tags": []
          },
          "execution_count": 5
        }
      ]
    },
    {
      "cell_type": "code",
      "metadata": {
        "colab": {
          "base_uri": "https://localhost:8080/"
        },
        "id": "9NCE20ox1HTA",
        "outputId": "89ecc407-f9c9-4236-a9bc-6013cc8a0634"
      },
      "source": [
        "# Check for any missing values.\n",
        "dataset.isnull().sum()"
      ],
      "execution_count": 6,
      "outputs": [
        {
          "output_type": "execute_result",
          "data": {
            "text/plain": [
              "Activity Period                 0\n",
              "Operating Airline               0\n",
              "Operating Airline IATA Code    54\n",
              "Published Airline               0\n",
              "Published Airline IATA Code    54\n",
              "GEO Summary                     0\n",
              "GEO Region                      0\n",
              "Activity Type Code              0\n",
              "Price Category Code             0\n",
              "Terminal                        0\n",
              "Boarding Area                   0\n",
              "Passenger Count                 0\n",
              "Adjusted Activity Type Code     0\n",
              "Adjusted Passenger Count        0\n",
              "Year                            0\n",
              "Month                           0\n",
              "dtype: int64"
            ]
          },
          "metadata": {
            "tags": []
          },
          "execution_count": 6
        }
      ]
    },
    {
      "cell_type": "code",
      "metadata": {
        "id": "i8bDLuFG2n90"
      },
      "source": [
        "# The columns \"Operating Airline IATA Code\" and \"Published Airline IATA code\" contains 54 null values each.\n",
        "# As we know IATA code is the abbreviation of an Airline, our dataset contains the name of the published and operating airlines , so we need to worry about missing values in the IATA columns.\n",
        "# We can drop both the IATA code containing columns without any loss of information.\n",
        "dataset.drop(['Operating Airline IATA Code','Published Airline IATA Code'],axis=1,inplace=True)"
      ],
      "execution_count": 7,
      "outputs": []
    },
    {
      "cell_type": "code",
      "metadata": {
        "colab": {
          "base_uri": "https://localhost:8080/",
          "height": 436
        },
        "id": "RwZ07VuQ4YZg",
        "outputId": "dc1b065f-bd70-4e5a-feec-976b374ef73a"
      },
      "source": [
        "dataset"
      ],
      "execution_count": 8,
      "outputs": [
        {
          "output_type": "execute_result",
          "data": {
            "text/html": [
              "<div>\n",
              "<style scoped>\n",
              "    .dataframe tbody tr th:only-of-type {\n",
              "        vertical-align: middle;\n",
              "    }\n",
              "\n",
              "    .dataframe tbody tr th {\n",
              "        vertical-align: top;\n",
              "    }\n",
              "\n",
              "    .dataframe thead th {\n",
              "        text-align: right;\n",
              "    }\n",
              "</style>\n",
              "<table border=\"1\" class=\"dataframe\">\n",
              "  <thead>\n",
              "    <tr style=\"text-align: right;\">\n",
              "      <th></th>\n",
              "      <th>Activity Period</th>\n",
              "      <th>Operating Airline</th>\n",
              "      <th>Published Airline</th>\n",
              "      <th>GEO Summary</th>\n",
              "      <th>GEO Region</th>\n",
              "      <th>Activity Type Code</th>\n",
              "      <th>Price Category Code</th>\n",
              "      <th>Terminal</th>\n",
              "      <th>Boarding Area</th>\n",
              "      <th>Passenger Count</th>\n",
              "      <th>Adjusted Activity Type Code</th>\n",
              "      <th>Adjusted Passenger Count</th>\n",
              "      <th>Year</th>\n",
              "      <th>Month</th>\n",
              "    </tr>\n",
              "  </thead>\n",
              "  <tbody>\n",
              "    <tr>\n",
              "      <th>0</th>\n",
              "      <td>200507</td>\n",
              "      <td>ATA Airlines</td>\n",
              "      <td>ATA Airlines</td>\n",
              "      <td>Domestic</td>\n",
              "      <td>US</td>\n",
              "      <td>Deplaned</td>\n",
              "      <td>Low Fare</td>\n",
              "      <td>Terminal 1</td>\n",
              "      <td>B</td>\n",
              "      <td>27271</td>\n",
              "      <td>Deplaned</td>\n",
              "      <td>27271</td>\n",
              "      <td>2005</td>\n",
              "      <td>July</td>\n",
              "    </tr>\n",
              "    <tr>\n",
              "      <th>1</th>\n",
              "      <td>200507</td>\n",
              "      <td>ATA Airlines</td>\n",
              "      <td>ATA Airlines</td>\n",
              "      <td>Domestic</td>\n",
              "      <td>US</td>\n",
              "      <td>Enplaned</td>\n",
              "      <td>Low Fare</td>\n",
              "      <td>Terminal 1</td>\n",
              "      <td>B</td>\n",
              "      <td>29131</td>\n",
              "      <td>Enplaned</td>\n",
              "      <td>29131</td>\n",
              "      <td>2005</td>\n",
              "      <td>July</td>\n",
              "    </tr>\n",
              "    <tr>\n",
              "      <th>2</th>\n",
              "      <td>200507</td>\n",
              "      <td>ATA Airlines</td>\n",
              "      <td>ATA Airlines</td>\n",
              "      <td>Domestic</td>\n",
              "      <td>US</td>\n",
              "      <td>Thru / Transit</td>\n",
              "      <td>Low Fare</td>\n",
              "      <td>Terminal 1</td>\n",
              "      <td>B</td>\n",
              "      <td>5415</td>\n",
              "      <td>Thru / Transit * 2</td>\n",
              "      <td>10830</td>\n",
              "      <td>2005</td>\n",
              "      <td>July</td>\n",
              "    </tr>\n",
              "    <tr>\n",
              "      <th>3</th>\n",
              "      <td>200507</td>\n",
              "      <td>Air Canada</td>\n",
              "      <td>Air Canada</td>\n",
              "      <td>International</td>\n",
              "      <td>Canada</td>\n",
              "      <td>Deplaned</td>\n",
              "      <td>Other</td>\n",
              "      <td>Terminal 1</td>\n",
              "      <td>B</td>\n",
              "      <td>35156</td>\n",
              "      <td>Deplaned</td>\n",
              "      <td>35156</td>\n",
              "      <td>2005</td>\n",
              "      <td>July</td>\n",
              "    </tr>\n",
              "    <tr>\n",
              "      <th>4</th>\n",
              "      <td>200507</td>\n",
              "      <td>Air Canada</td>\n",
              "      <td>Air Canada</td>\n",
              "      <td>International</td>\n",
              "      <td>Canada</td>\n",
              "      <td>Enplaned</td>\n",
              "      <td>Other</td>\n",
              "      <td>Terminal 1</td>\n",
              "      <td>B</td>\n",
              "      <td>34090</td>\n",
              "      <td>Enplaned</td>\n",
              "      <td>34090</td>\n",
              "      <td>2005</td>\n",
              "      <td>July</td>\n",
              "    </tr>\n",
              "    <tr>\n",
              "      <th>...</th>\n",
              "      <td>...</td>\n",
              "      <td>...</td>\n",
              "      <td>...</td>\n",
              "      <td>...</td>\n",
              "      <td>...</td>\n",
              "      <td>...</td>\n",
              "      <td>...</td>\n",
              "      <td>...</td>\n",
              "      <td>...</td>\n",
              "      <td>...</td>\n",
              "      <td>...</td>\n",
              "      <td>...</td>\n",
              "      <td>...</td>\n",
              "      <td>...</td>\n",
              "    </tr>\n",
              "    <tr>\n",
              "      <th>15002</th>\n",
              "      <td>201603</td>\n",
              "      <td>Virgin America</td>\n",
              "      <td>Virgin America</td>\n",
              "      <td>Domestic</td>\n",
              "      <td>US</td>\n",
              "      <td>Enplaned</td>\n",
              "      <td>Low Fare</td>\n",
              "      <td>Terminal 2</td>\n",
              "      <td>D</td>\n",
              "      <td>194636</td>\n",
              "      <td>Enplaned</td>\n",
              "      <td>194636</td>\n",
              "      <td>2016</td>\n",
              "      <td>March</td>\n",
              "    </tr>\n",
              "    <tr>\n",
              "      <th>15003</th>\n",
              "      <td>201603</td>\n",
              "      <td>Virgin America</td>\n",
              "      <td>Virgin America</td>\n",
              "      <td>International</td>\n",
              "      <td>Mexico</td>\n",
              "      <td>Deplaned</td>\n",
              "      <td>Low Fare</td>\n",
              "      <td>International</td>\n",
              "      <td>A</td>\n",
              "      <td>4189</td>\n",
              "      <td>Deplaned</td>\n",
              "      <td>4189</td>\n",
              "      <td>2016</td>\n",
              "      <td>March</td>\n",
              "    </tr>\n",
              "    <tr>\n",
              "      <th>15004</th>\n",
              "      <td>201603</td>\n",
              "      <td>Virgin America</td>\n",
              "      <td>Virgin America</td>\n",
              "      <td>International</td>\n",
              "      <td>Mexico</td>\n",
              "      <td>Enplaned</td>\n",
              "      <td>Low Fare</td>\n",
              "      <td>Terminal 2</td>\n",
              "      <td>D</td>\n",
              "      <td>4693</td>\n",
              "      <td>Enplaned</td>\n",
              "      <td>4693</td>\n",
              "      <td>2016</td>\n",
              "      <td>March</td>\n",
              "    </tr>\n",
              "    <tr>\n",
              "      <th>15005</th>\n",
              "      <td>201603</td>\n",
              "      <td>Virgin Atlantic</td>\n",
              "      <td>Virgin Atlantic</td>\n",
              "      <td>International</td>\n",
              "      <td>Europe</td>\n",
              "      <td>Deplaned</td>\n",
              "      <td>Other</td>\n",
              "      <td>International</td>\n",
              "      <td>A</td>\n",
              "      <td>12313</td>\n",
              "      <td>Deplaned</td>\n",
              "      <td>12313</td>\n",
              "      <td>2016</td>\n",
              "      <td>March</td>\n",
              "    </tr>\n",
              "    <tr>\n",
              "      <th>15006</th>\n",
              "      <td>201603</td>\n",
              "      <td>Virgin Atlantic</td>\n",
              "      <td>Virgin Atlantic</td>\n",
              "      <td>International</td>\n",
              "      <td>Europe</td>\n",
              "      <td>Enplaned</td>\n",
              "      <td>Other</td>\n",
              "      <td>International</td>\n",
              "      <td>A</td>\n",
              "      <td>10898</td>\n",
              "      <td>Enplaned</td>\n",
              "      <td>10898</td>\n",
              "      <td>2016</td>\n",
              "      <td>March</td>\n",
              "    </tr>\n",
              "  </tbody>\n",
              "</table>\n",
              "<p>15007 rows × 14 columns</p>\n",
              "</div>"
            ],
            "text/plain": [
              "       Activity Period Operating Airline  ...  Year  Month\n",
              "0               200507      ATA Airlines  ...  2005   July\n",
              "1               200507      ATA Airlines  ...  2005   July\n",
              "2               200507      ATA Airlines  ...  2005   July\n",
              "3               200507       Air Canada   ...  2005   July\n",
              "4               200507       Air Canada   ...  2005   July\n",
              "...                ...               ...  ...   ...    ...\n",
              "15002           201603    Virgin America  ...  2016  March\n",
              "15003           201603    Virgin America  ...  2016  March\n",
              "15004           201603    Virgin America  ...  2016  March\n",
              "15005           201603   Virgin Atlantic  ...  2016  March\n",
              "15006           201603   Virgin Atlantic  ...  2016  March\n",
              "\n",
              "[15007 rows x 14 columns]"
            ]
          },
          "metadata": {
            "tags": []
          },
          "execution_count": 8
        }
      ]
    },
    {
      "cell_type": "code",
      "metadata": {
        "colab": {
          "base_uri": "https://localhost:8080/",
          "height": 436
        },
        "id": "cSwH-NQJ4i0X",
        "outputId": "fc09d0dc-b78b-4dd2-dc38-bbd232bbbf06"
      },
      "source": [
        "# Checking for any duplicates and remove if any.\n",
        "dataset.drop_duplicates()"
      ],
      "execution_count": 9,
      "outputs": [
        {
          "output_type": "execute_result",
          "data": {
            "text/html": [
              "<div>\n",
              "<style scoped>\n",
              "    .dataframe tbody tr th:only-of-type {\n",
              "        vertical-align: middle;\n",
              "    }\n",
              "\n",
              "    .dataframe tbody tr th {\n",
              "        vertical-align: top;\n",
              "    }\n",
              "\n",
              "    .dataframe thead th {\n",
              "        text-align: right;\n",
              "    }\n",
              "</style>\n",
              "<table border=\"1\" class=\"dataframe\">\n",
              "  <thead>\n",
              "    <tr style=\"text-align: right;\">\n",
              "      <th></th>\n",
              "      <th>Activity Period</th>\n",
              "      <th>Operating Airline</th>\n",
              "      <th>Published Airline</th>\n",
              "      <th>GEO Summary</th>\n",
              "      <th>GEO Region</th>\n",
              "      <th>Activity Type Code</th>\n",
              "      <th>Price Category Code</th>\n",
              "      <th>Terminal</th>\n",
              "      <th>Boarding Area</th>\n",
              "      <th>Passenger Count</th>\n",
              "      <th>Adjusted Activity Type Code</th>\n",
              "      <th>Adjusted Passenger Count</th>\n",
              "      <th>Year</th>\n",
              "      <th>Month</th>\n",
              "    </tr>\n",
              "  </thead>\n",
              "  <tbody>\n",
              "    <tr>\n",
              "      <th>0</th>\n",
              "      <td>200507</td>\n",
              "      <td>ATA Airlines</td>\n",
              "      <td>ATA Airlines</td>\n",
              "      <td>Domestic</td>\n",
              "      <td>US</td>\n",
              "      <td>Deplaned</td>\n",
              "      <td>Low Fare</td>\n",
              "      <td>Terminal 1</td>\n",
              "      <td>B</td>\n",
              "      <td>27271</td>\n",
              "      <td>Deplaned</td>\n",
              "      <td>27271</td>\n",
              "      <td>2005</td>\n",
              "      <td>July</td>\n",
              "    </tr>\n",
              "    <tr>\n",
              "      <th>1</th>\n",
              "      <td>200507</td>\n",
              "      <td>ATA Airlines</td>\n",
              "      <td>ATA Airlines</td>\n",
              "      <td>Domestic</td>\n",
              "      <td>US</td>\n",
              "      <td>Enplaned</td>\n",
              "      <td>Low Fare</td>\n",
              "      <td>Terminal 1</td>\n",
              "      <td>B</td>\n",
              "      <td>29131</td>\n",
              "      <td>Enplaned</td>\n",
              "      <td>29131</td>\n",
              "      <td>2005</td>\n",
              "      <td>July</td>\n",
              "    </tr>\n",
              "    <tr>\n",
              "      <th>2</th>\n",
              "      <td>200507</td>\n",
              "      <td>ATA Airlines</td>\n",
              "      <td>ATA Airlines</td>\n",
              "      <td>Domestic</td>\n",
              "      <td>US</td>\n",
              "      <td>Thru / Transit</td>\n",
              "      <td>Low Fare</td>\n",
              "      <td>Terminal 1</td>\n",
              "      <td>B</td>\n",
              "      <td>5415</td>\n",
              "      <td>Thru / Transit * 2</td>\n",
              "      <td>10830</td>\n",
              "      <td>2005</td>\n",
              "      <td>July</td>\n",
              "    </tr>\n",
              "    <tr>\n",
              "      <th>3</th>\n",
              "      <td>200507</td>\n",
              "      <td>Air Canada</td>\n",
              "      <td>Air Canada</td>\n",
              "      <td>International</td>\n",
              "      <td>Canada</td>\n",
              "      <td>Deplaned</td>\n",
              "      <td>Other</td>\n",
              "      <td>Terminal 1</td>\n",
              "      <td>B</td>\n",
              "      <td>35156</td>\n",
              "      <td>Deplaned</td>\n",
              "      <td>35156</td>\n",
              "      <td>2005</td>\n",
              "      <td>July</td>\n",
              "    </tr>\n",
              "    <tr>\n",
              "      <th>4</th>\n",
              "      <td>200507</td>\n",
              "      <td>Air Canada</td>\n",
              "      <td>Air Canada</td>\n",
              "      <td>International</td>\n",
              "      <td>Canada</td>\n",
              "      <td>Enplaned</td>\n",
              "      <td>Other</td>\n",
              "      <td>Terminal 1</td>\n",
              "      <td>B</td>\n",
              "      <td>34090</td>\n",
              "      <td>Enplaned</td>\n",
              "      <td>34090</td>\n",
              "      <td>2005</td>\n",
              "      <td>July</td>\n",
              "    </tr>\n",
              "    <tr>\n",
              "      <th>...</th>\n",
              "      <td>...</td>\n",
              "      <td>...</td>\n",
              "      <td>...</td>\n",
              "      <td>...</td>\n",
              "      <td>...</td>\n",
              "      <td>...</td>\n",
              "      <td>...</td>\n",
              "      <td>...</td>\n",
              "      <td>...</td>\n",
              "      <td>...</td>\n",
              "      <td>...</td>\n",
              "      <td>...</td>\n",
              "      <td>...</td>\n",
              "      <td>...</td>\n",
              "    </tr>\n",
              "    <tr>\n",
              "      <th>15002</th>\n",
              "      <td>201603</td>\n",
              "      <td>Virgin America</td>\n",
              "      <td>Virgin America</td>\n",
              "      <td>Domestic</td>\n",
              "      <td>US</td>\n",
              "      <td>Enplaned</td>\n",
              "      <td>Low Fare</td>\n",
              "      <td>Terminal 2</td>\n",
              "      <td>D</td>\n",
              "      <td>194636</td>\n",
              "      <td>Enplaned</td>\n",
              "      <td>194636</td>\n",
              "      <td>2016</td>\n",
              "      <td>March</td>\n",
              "    </tr>\n",
              "    <tr>\n",
              "      <th>15003</th>\n",
              "      <td>201603</td>\n",
              "      <td>Virgin America</td>\n",
              "      <td>Virgin America</td>\n",
              "      <td>International</td>\n",
              "      <td>Mexico</td>\n",
              "      <td>Deplaned</td>\n",
              "      <td>Low Fare</td>\n",
              "      <td>International</td>\n",
              "      <td>A</td>\n",
              "      <td>4189</td>\n",
              "      <td>Deplaned</td>\n",
              "      <td>4189</td>\n",
              "      <td>2016</td>\n",
              "      <td>March</td>\n",
              "    </tr>\n",
              "    <tr>\n",
              "      <th>15004</th>\n",
              "      <td>201603</td>\n",
              "      <td>Virgin America</td>\n",
              "      <td>Virgin America</td>\n",
              "      <td>International</td>\n",
              "      <td>Mexico</td>\n",
              "      <td>Enplaned</td>\n",
              "      <td>Low Fare</td>\n",
              "      <td>Terminal 2</td>\n",
              "      <td>D</td>\n",
              "      <td>4693</td>\n",
              "      <td>Enplaned</td>\n",
              "      <td>4693</td>\n",
              "      <td>2016</td>\n",
              "      <td>March</td>\n",
              "    </tr>\n",
              "    <tr>\n",
              "      <th>15005</th>\n",
              "      <td>201603</td>\n",
              "      <td>Virgin Atlantic</td>\n",
              "      <td>Virgin Atlantic</td>\n",
              "      <td>International</td>\n",
              "      <td>Europe</td>\n",
              "      <td>Deplaned</td>\n",
              "      <td>Other</td>\n",
              "      <td>International</td>\n",
              "      <td>A</td>\n",
              "      <td>12313</td>\n",
              "      <td>Deplaned</td>\n",
              "      <td>12313</td>\n",
              "      <td>2016</td>\n",
              "      <td>March</td>\n",
              "    </tr>\n",
              "    <tr>\n",
              "      <th>15006</th>\n",
              "      <td>201603</td>\n",
              "      <td>Virgin Atlantic</td>\n",
              "      <td>Virgin Atlantic</td>\n",
              "      <td>International</td>\n",
              "      <td>Europe</td>\n",
              "      <td>Enplaned</td>\n",
              "      <td>Other</td>\n",
              "      <td>International</td>\n",
              "      <td>A</td>\n",
              "      <td>10898</td>\n",
              "      <td>Enplaned</td>\n",
              "      <td>10898</td>\n",
              "      <td>2016</td>\n",
              "      <td>March</td>\n",
              "    </tr>\n",
              "  </tbody>\n",
              "</table>\n",
              "<p>15007 rows × 14 columns</p>\n",
              "</div>"
            ],
            "text/plain": [
              "       Activity Period Operating Airline  ...  Year  Month\n",
              "0               200507      ATA Airlines  ...  2005   July\n",
              "1               200507      ATA Airlines  ...  2005   July\n",
              "2               200507      ATA Airlines  ...  2005   July\n",
              "3               200507       Air Canada   ...  2005   July\n",
              "4               200507       Air Canada   ...  2005   July\n",
              "...                ...               ...  ...   ...    ...\n",
              "15002           201603    Virgin America  ...  2016  March\n",
              "15003           201603    Virgin America  ...  2016  March\n",
              "15004           201603    Virgin America  ...  2016  March\n",
              "15005           201603   Virgin Atlantic  ...  2016  March\n",
              "15006           201603   Virgin Atlantic  ...  2016  March\n",
              "\n",
              "[15007 rows x 14 columns]"
            ]
          },
          "metadata": {
            "tags": []
          },
          "execution_count": 9
        }
      ]
    },
    {
      "cell_type": "code",
      "metadata": {
        "colab": {
          "base_uri": "https://localhost:8080/",
          "height": 296
        },
        "id": "oPrmxs9Q9ug4",
        "outputId": "26e81731-5315-435a-969f-54769b5fafe4"
      },
      "source": [
        "# Montly passenger count.\n",
        "plt.figure(figsize=(16,4))\n",
        "sns.barplot(x=dataset['Month'],y=dataset['Adjusted Passenger Count'])"
      ],
      "execution_count": 10,
      "outputs": [
        {
          "output_type": "execute_result",
          "data": {
            "text/plain": [
              "<matplotlib.axes._subplots.AxesSubplot at 0x7fed3daae6d0>"
            ]
          },
          "metadata": {
            "tags": []
          },
          "execution_count": 10
        },
        {
          "output_type": "display_data",
          "data": {
            "image/png": "[encoded data removed]",
            "text/plain": [
              "<Figure size 1152x288 with 1 Axes>"
            ]
          },
          "metadata": {
            "tags": [],
            "needs_background": "light"
          }
        }
      ]
    },
    {
      "cell_type": "code",
      "metadata": {
        "colab": {
          "base_uri": "https://localhost:8080/",
          "height": 296
        },
        "id": "FnnUhQV6-bbp",
        "outputId": "f87bd89d-98cf-422c-face-e797d3814e1b"
      },
      "source": [
        "# Yearly Passenger Count.\n",
        "plt.figure(figsize=(16,4))\n",
        "sns.barplot(x=dataset['Year'],y=dataset['Adjusted Passenger Count'])"
      ],
      "execution_count": 11,
      "outputs": [
        {
          "output_type": "execute_result",
          "data": {
            "text/plain": [
              "<matplotlib.axes._subplots.AxesSubplot at 0x7fed3d980c10>"
            ]
          },
          "metadata": {
            "tags": []
          },
          "execution_count": 11
        },
        {
          "output_type": "display_data",
          "data": {
            "image/png": "[encoded data removed]",
            "text/plain": [
              "<Figure size 1152x288 with 1 Axes>"
            ]
          },
          "metadata": {
            "tags": [],
            "needs_background": "light"
          }
        }
      ]
    },
    {
      "cell_type": "code",
      "metadata": {
        "colab": {
          "base_uri": "https://localhost:8080/",
          "height": 609
        },
        "id": "fRf6Vm8s_2m3",
        "outputId": "e2104076-0c95-409b-9f91-702828f2bd65"
      },
      "source": [
        "plt.figure(figsize=(16,10))\n",
        "sns.scatterplot(x=range(0,15007),y=dataset['Adjusted Passenger Count'],hue=dataset['Activity Type Code'])"
      ],
      "execution_count": 12,
      "outputs": [
        {
          "output_type": "execute_result",
          "data": {
            "text/plain": [
              "<matplotlib.axes._subplots.AxesSubplot at 0x7fed3d474150>"
            ]
          },
          "metadata": {
            "tags": []
          },
          "execution_count": 12
        },
        {
          "output_type": "display_data",
          "data": {
            "image/png": "[encoded data removed]",
            "text/plain": [
              "<Figure size 1152x720 with 1 Axes>"
            ]
          },
          "metadata": {
            "tags": [],
            "needs_background": "light"
          }
        }
      ]
    },
    {
      "cell_type": "code",
      "metadata": {
        "colab": {
          "base_uri": "https://localhost:8080/",
          "height": 296
        },
        "id": "U5PkbhSTByjU",
        "outputId": "65bc55fc-fcc0-4fcb-83cd-f3e18c71fe79"
      },
      "source": [
        "sns.countplot(x=dataset['GEO Summary'])"
      ],
      "execution_count": 13,
      "outputs": [
        {
          "output_type": "execute_result",
          "data": {
            "text/plain": [
              "<matplotlib.axes._subplots.AxesSubplot at 0x7fed3c929690>"
            ]
          },
          "metadata": {
            "tags": []
          },
          "execution_count": 13
        },
        {
          "output_type": "display_data",
          "data": {
            "image/png": "[encoded data removed]",
            "text/plain": [
              "<Figure size 432x288 with 1 Axes>"
            ]
          },
          "metadata": {
            "tags": [],
            "needs_background": "light"
          }
        }
      ]
    },
    {
      "cell_type": "code",
      "metadata": {
        "colab": {
          "base_uri": "https://localhost:8080/",
          "height": 297
        },
        "id": "mMKMVh88B9Gr",
        "outputId": "271abb42-bab2-4207-98d7-7caa32e9f597"
      },
      "source": [
        "plt.figure(figsize=(16,4))\n",
        "sns.countplot(x=dataset['GEO Region'])"
      ],
      "execution_count": 14,
      "outputs": [
        {
          "output_type": "execute_result",
          "data": {
            "text/plain": [
              "<matplotlib.axes._subplots.AxesSubplot at 0x7fed3d3fbc90>"
            ]
          },
          "metadata": {
            "tags": []
          },
          "execution_count": 14
        },
        {
          "output_type": "display_data",
          "data": {
            "image/png": "[encoded data removed]",
            "text/plain": [
              "<Figure size 1152x288 with 1 Axes>"
            ]
          },
          "metadata": {
            "tags": [],
            "needs_background": "light"
          }
        }
      ]
    },
    {
      "cell_type": "code",
      "metadata": {
        "colab": {
          "base_uri": "https://localhost:8080/",
          "height": 296
        },
        "id": "X4KK6EiaC0bY",
        "outputId": "8dc2796f-2893-4263-f57a-1f151ca6febc"
      },
      "source": [
        "sns.countplot(x=dataset['Price Category Code'])"
      ],
      "execution_count": 15,
      "outputs": [
        {
          "output_type": "execute_result",
          "data": {
            "text/plain": [
              "<matplotlib.axes._subplots.AxesSubplot at 0x7fed3c8d5bd0>"
            ]
          },
          "metadata": {
            "tags": []
          },
          "execution_count": 15
        },
        {
          "output_type": "display_data",
          "data": {
            "image/png": "[encoded data removed]",
            "text/plain": [
              "<Figure size 432x288 with 1 Axes>"
            ]
          },
          "metadata": {
            "tags": [],
            "needs_background": "light"
          }
        }
      ]
    },
    {
      "cell_type": "code",
      "metadata": {
        "colab": {
          "base_uri": "https://localhost:8080/"
        },
        "id": "DW7omaKj532Q",
        "outputId": "cab49166-50c3-493e-8b3f-85098e60eb7a"
      },
      "source": [
        "dataset['Adjusted Passenger Count'].corr(dataset['Passenger Count'])"
      ],
      "execution_count": 16,
      "outputs": [
        {
          "output_type": "execute_result",
          "data": {
            "text/plain": [
              "0.9999408877427276"
            ]
          },
          "metadata": {
            "tags": []
          },
          "execution_count": 16
        }
      ]
    },
    {
      "cell_type": "code",
      "metadata": {
        "id": "rS0DAVF26ZC_"
      },
      "source": [
        "# As the above two columns are highly correlated , one can be eliminated and we chose 'Passenger Count' to remove as we need to predict the 'Adjusted Passenger count'\n",
        "dataset.drop(['Passenger Count'],axis=1,inplace=True)\n",
        "# The 'Activity Period' column data implicitly tells about the year and month , so 'Year' and 'Month' columns can be deleted.\n",
        "dataset.drop(['Year','Month'],axis=1,inplace=True)"
      ],
      "execution_count": 17,
      "outputs": []
    },
    {
      "cell_type": "code",
      "metadata": {
        "colab": {
          "base_uri": "https://localhost:8080/"
        },
        "id": "KM3YktzURJvm",
        "outputId": "cbc563ff-3143-4f6e-932d-c4b2cb9c2dc5"
      },
      "source": [
        "print(dataset[dataset['Activity Type Code']==dataset['Adjusted Activity Type Code']].shape)\n",
        "print(dataset[dataset['Activity Type Code']==\"Thru / Transit\"].shape)\n",
        "print(dataset.shape)"
      ],
      "execution_count": 18,
      "outputs": [
        {
          "output_type": "stream",
          "text": [
            "(14087, 11)\n",
            "(920, 11)\n",
            "(15007, 11)\n"
          ],
          "name": "stdout"
        }
      ]
    },
    {
      "cell_type": "markdown",
      "metadata": {
        "id": "9ydZQQp7SSWe"
      },
      "source": [
        "*The output of the above cell determines that 'Thru/Transit' in 'Activity Type Code' is same as 'Thru/Transit\\*2'.Explicitly the other two categories i.e., enplaned and deplaned are common to both the columns. Hence One among the two can be deleted *"
      ]
    },
    {
      "cell_type": "code",
      "metadata": {
        "id": "UkAZgwfpTLLV"
      },
      "source": [
        "'''*The output of the above cell determines that 'Thru/Transit' in 'Activity Type Code' is same as 'Thru/Transit\\*2'.\n",
        "Explicitly the other two categories i.e., enplaned and deplaned are common to both the columns. Hence One among the two can be deleted '''\n",
        "dataset.drop(['Activity Type Code'],axis=1,inplace=True)"
      ],
      "execution_count": 19,
      "outputs": []
    },
    {
      "cell_type": "code",
      "metadata": {
        "colab": {
          "base_uri": "https://localhost:8080/"
        },
        "id": "Un2QN7l65GiI",
        "outputId": "97c834e8-8839-408d-8caf-7c470c5eaf5a"
      },
      "source": [
        "# Data types of each column\n",
        "dataset.dtypes"
      ],
      "execution_count": 20,
      "outputs": [
        {
          "output_type": "execute_result",
          "data": {
            "text/plain": [
              "Activity Period                 int64\n",
              "Operating Airline              object\n",
              "Published Airline              object\n",
              "GEO Summary                    object\n",
              "GEO Region                     object\n",
              "Price Category Code            object\n",
              "Terminal                       object\n",
              "Boarding Area                  object\n",
              "Adjusted Activity Type Code    object\n",
              "Adjusted Passenger Count        int64\n",
              "dtype: object"
            ]
          },
          "metadata": {
            "tags": []
          },
          "execution_count": 20
        }
      ]
    },
    {
      "cell_type": "code",
      "metadata": {
        "colab": {
          "base_uri": "https://localhost:8080/"
        },
        "id": "NApqjciE5lY-",
        "outputId": "7ee09649-ef41-4427-e5c4-ecb696a89301"
      },
      "source": [
        "# After Cleaning the data , the new dimensions of the data.\n",
        "dataset.shape"
      ],
      "execution_count": 21,
      "outputs": [
        {
          "output_type": "execute_result",
          "data": {
            "text/plain": [
              "(15007, 10)"
            ]
          },
          "metadata": {
            "tags": []
          },
          "execution_count": 21
        }
      ]
    },
    {
      "cell_type": "code",
      "metadata": {
        "colab": {
          "base_uri": "https://localhost:8080/",
          "height": 297
        },
        "id": "mvoWTcBITxNW",
        "outputId": "4f0ccf01-beee-4a8a-89d0-12e7561b6069"
      },
      "source": [
        "# Statastical Parameters of the numerical data.\n",
        "dataset.describe()"
      ],
      "execution_count": 22,
      "outputs": [
        {
          "output_type": "execute_result",
          "data": {
            "text/html": [
              "<div>\n",
              "<style scoped>\n",
              "    .dataframe tbody tr th:only-of-type {\n",
              "        vertical-align: middle;\n",
              "    }\n",
              "\n",
              "    .dataframe tbody tr th {\n",
              "        vertical-align: top;\n",
              "    }\n",
              "\n",
              "    .dataframe thead th {\n",
              "        text-align: right;\n",
              "    }\n",
              "</style>\n",
              "<table border=\"1\" class=\"dataframe\">\n",
              "  <thead>\n",
              "    <tr style=\"text-align: right;\">\n",
              "      <th></th>\n",
              "      <th>Activity Period</th>\n",
              "      <th>Adjusted Passenger Count</th>\n",
              "    </tr>\n",
              "  </thead>\n",
              "  <tbody>\n",
              "    <tr>\n",
              "      <th>count</th>\n",
              "      <td>15007.000000</td>\n",
              "      <td>15007.000000</td>\n",
              "    </tr>\n",
              "    <tr>\n",
              "      <th>mean</th>\n",
              "      <td>201045.073366</td>\n",
              "      <td>29331.917105</td>\n",
              "    </tr>\n",
              "    <tr>\n",
              "      <th>std</th>\n",
              "      <td>313.336196</td>\n",
              "      <td>58284.182219</td>\n",
              "    </tr>\n",
              "    <tr>\n",
              "      <th>min</th>\n",
              "      <td>200507.000000</td>\n",
              "      <td>1.000000</td>\n",
              "    </tr>\n",
              "    <tr>\n",
              "      <th>25%</th>\n",
              "      <td>200803.000000</td>\n",
              "      <td>5495.500000</td>\n",
              "    </tr>\n",
              "    <tr>\n",
              "      <th>50%</th>\n",
              "      <td>201011.000000</td>\n",
              "      <td>9354.000000</td>\n",
              "    </tr>\n",
              "    <tr>\n",
              "      <th>75%</th>\n",
              "      <td>201308.000000</td>\n",
              "      <td>21182.000000</td>\n",
              "    </tr>\n",
              "    <tr>\n",
              "      <th>max</th>\n",
              "      <td>201603.000000</td>\n",
              "      <td>659837.000000</td>\n",
              "    </tr>\n",
              "  </tbody>\n",
              "</table>\n",
              "</div>"
            ],
            "text/plain": [
              "       Activity Period  Adjusted Passenger Count\n",
              "count     15007.000000              15007.000000\n",
              "mean     201045.073366              29331.917105\n",
              "std         313.336196              58284.182219\n",
              "min      200507.000000                  1.000000\n",
              "25%      200803.000000               5495.500000\n",
              "50%      201011.000000               9354.000000\n",
              "75%      201308.000000              21182.000000\n",
              "max      201603.000000             659837.000000"
            ]
          },
          "metadata": {
            "tags": []
          },
          "execution_count": 22
        }
      ]
    },
    {
      "cell_type": "code",
      "metadata": {
        "colab": {
          "base_uri": "https://localhost:8080/",
          "height": 351
        },
        "id": "F4fHMBOkT3t8",
        "outputId": "45dd56b8-12dc-4bba-b2f1-0fd45d9dfb90"
      },
      "source": [
        "# The max value of 'Adjusted Passenger Count' is much higher than the 75% quartile value. This evidents outliers in the data.\n",
        "# Visualize using Boxplots to check for outliers existence.\n",
        "plt.figure(figsize=(15,5))\n",
        "sns.boxplot(x='Adjusted Passenger Count',data=dataset,orient='h',color='y')"
      ],
      "execution_count": 23,
      "outputs": [
        {
          "output_type": "execute_result",
          "data": {
            "text/plain": [
              "<matplotlib.axes._subplots.AxesSubplot at 0x7fed3c83be50>"
            ]
          },
          "metadata": {
            "tags": []
          },
          "execution_count": 23
        },
        {
          "output_type": "display_data",
          "data": {
            "image/png": "[encoded data removed]",
            "text/plain": [
              "<Figure size 1080x360 with 1 Axes>"
            ]
          },
          "metadata": {
            "tags": [],
            "needs_background": "light"
          }
        }
      ]
    },
    {
      "cell_type": "code",
      "metadata": {
        "id": "wTcZ4cIeWvE8"
      },
      "source": [
        "# Outliers are the data points whose z-score value fails to lie between -3 and 3.Below is the code for finding for outliers\n",
        "def outlierr(data):\n",
        "  outliers=[]\n",
        "  threshold=3\n",
        "  mean=np.mean(data)\n",
        "  sd=np.std(data)\n",
        "  \n",
        "  for i in data:\n",
        "    z=(i-mean)/sd\n",
        "    if(np.abs(z)>threshold):\n",
        "      outliers.append(i)\n",
        "  return outliers      "
      ],
      "execution_count": 24,
      "outputs": []
    },
    {
      "cell_type": "code",
      "metadata": {
        "id": "mfwZnnZAbHjT"
      },
      "source": [
        "outlier=outlierr(dataset['Adjusted Passenger Count'])"
      ],
      "execution_count": 25,
      "outputs": []
    },
    {
      "cell_type": "code",
      "metadata": {
        "colab": {
          "base_uri": "https://localhost:8080/"
        },
        "id": "uo6T7mg4IMsg",
        "outputId": "37fc7ea4-f11a-47b4-8c68-3a7485b9e5b0"
      },
      "source": [
        "outlier"
      ],
      "execution_count": 26,
      "outputs": [
        {
          "output_type": "execute_result",
          "data": {
            "text/plain": [
              "[443656,\n",
              " 421802,\n",
              " 420430,\n",
              " 398135,\n",
              " 357533,\n",
              " 360563,\n",
              " 355551,\n",
              " 355445,\n",
              " 380704,\n",
              " 374221,\n",
              " 392724,\n",
              " 382711,\n",
              " 324729,\n",
              " 312749,\n",
              " 325806,\n",
              " 314628,\n",
              " 392302,\n",
              " 381002,\n",
              " 381246,\n",
              " 381632,\n",
              " 403619,\n",
              " 397549,\n",
              " 404815,\n",
              " 433650,\n",
              " 395122,\n",
              " 405636,\n",
              " 388993,\n",
              " 396292,\n",
              " 367111,\n",
              " 373976,\n",
              " 387762,\n",
              " 384259,\n",
              " 349495,\n",
              " 361206,\n",
              " 345339,\n",
              " 364408,\n",
              " 322569,\n",
              " 327638,\n",
              " 306419,\n",
              " 315514,\n",
              " 370997,\n",
              " 391246,\n",
              " 369304,\n",
              " 397287,\n",
              " 393135,\n",
              " 399207,\n",
              " 393528,\n",
              " 417465,\n",
              " 397134,\n",
              " 406700,\n",
              " 406143,\n",
              " 419569,\n",
              " 347791,\n",
              " 363949,\n",
              " 374340,\n",
              " 377299,\n",
              " 351116,\n",
              " 360460,\n",
              " 336243,\n",
              " 346854,\n",
              " 305902,\n",
              " 302730,\n",
              " 311868,\n",
              " 317942,\n",
              " 367925,\n",
              " 377134,\n",
              " 352456,\n",
              " 372378,\n",
              " 371893,\n",
              " 384334,\n",
              " 374046,\n",
              " 387105,\n",
              " 388797,\n",
              " 388052,\n",
              " 391820,\n",
              " 396295,\n",
              " 330863,\n",
              " 342206,\n",
              " 354222,\n",
              " 352917,\n",
              " 289214,\n",
              " 298619,\n",
              " 326272,\n",
              " 320658,\n",
              " 324641,\n",
              " 320215,\n",
              " 305874,\n",
              " 303663,\n",
              " 373760,\n",
              " 383555,\n",
              " 366632,\n",
              " 375229,\n",
              " 379700,\n",
              " 381242,\n",
              " 392536,\n",
              " 403640,\n",
              " 423758,\n",
              " 420420,\n",
              " 423601,\n",
              " 422989,\n",
              " 359882,\n",
              " 373299,\n",
              " 378838,\n",
              " 379265,\n",
              " 348799,\n",
              " 352889,\n",
              " 363333,\n",
              " 367743,\n",
              " 339147,\n",
              " 330464,\n",
              " 316628,\n",
              " 312039,\n",
              " 385230,\n",
              " 389815,\n",
              " 378048,\n",
              " 391391,\n",
              " 404581,\n",
              " 402588,\n",
              " 400924,\n",
              " 413640,\n",
              " 416752,\n",
              " 408291,\n",
              " 428141,\n",
              " 420700,\n",
              " 380843,\n",
              " 392480,\n",
              " 409190,\n",
              " 404967,\n",
              " 368189,\n",
              " 370807,\n",
              " 365334,\n",
              " 364504,\n",
              " 323470,\n",
              " 318407,\n",
              " 301417,\n",
              " 297712,\n",
              " 352122,\n",
              " 359645,\n",
              " 342669,\n",
              " 350324,\n",
              " 381602,\n",
              " 381140,\n",
              " 411250,\n",
              " 422203,\n",
              " 437967,\n",
              " 428431,\n",
              " 430111,\n",
              " 424817,\n",
              " 390363,\n",
              " 398852,\n",
              " 404970,\n",
              " 402482,\n",
              " 375796,\n",
              " 374352,\n",
              " 385450,\n",
              " 386334,\n",
              " 363731,\n",
              " 359377,\n",
              " 351096,\n",
              " 345900,\n",
              " 388088,\n",
              " 387272,\n",
              " 348591,\n",
              " 352098,\n",
              " 361349,\n",
              " 366814,\n",
              " 371600,\n",
              " 382751,\n",
              " 409257,\n",
              " 404310,\n",
              " 404838,\n",
              " 402963,\n",
              " 359585,\n",
              " 345906,\n",
              " 218215,\n",
              " 218261,\n",
              " 316080,\n",
              " 313710,\n",
              " 214589,\n",
              " 216903,\n",
              " 266214,\n",
              " 269318,\n",
              " 217757,\n",
              " 228472,\n",
              " 255511,\n",
              " 261365,\n",
              " 209609,\n",
              " 254542,\n",
              " 244962,\n",
              " 234230,\n",
              " 232000,\n",
              " 218696,\n",
              " 216505,\n",
              " 295447,\n",
              " 300468,\n",
              " 218562,\n",
              " 216355,\n",
              " 311243,\n",
              " 301722,\n",
              " 238713,\n",
              " 238783,\n",
              " 323476,\n",
              " 325203,\n",
              " 288888,\n",
              " 297792,\n",
              " 309798,\n",
              " 302480,\n",
              " 625885,\n",
              " 622871,\n",
              " 659837,\n",
              " 629003,\n",
              " 548374,\n",
              " 544302,\n",
              " 573619,\n",
              " 558030,\n",
              " 506882,\n",
              " 522199,\n",
              " 553433,\n",
              " 556208,\n",
              " 482915,\n",
              " 473688,\n",
              " 207768,\n",
              " 213908,\n",
              " 262959,\n",
              " 246222,\n",
              " 228853,\n",
              " 248037,\n",
              " 332823,\n",
              " 312349,\n",
              " 246192,\n",
              " 256717,\n",
              " 360412,\n",
              " 342797,\n",
              " 260432,\n",
              " 263538,\n",
              " 357811,\n",
              " 348183,\n",
              " 278866,\n",
              " 287690,\n",
              " 354631,\n",
              " 349075,\n",
              " 281597,\n",
              " 294113,\n",
              " 393459,\n",
              " 350470,\n",
              " 285079,\n",
              " 301827,\n",
              " 392063,\n",
              " 366190,\n",
              " 239607,\n",
              " 256958,\n",
              " 349086,\n",
              " 331868,\n",
              " 252733,\n",
              " 264178,\n",
              " 364006,\n",
              " 355291,\n",
              " 224032,\n",
              " 246101,\n",
              " 309094,\n",
              " 297053,\n",
              " 247015,\n",
              " 260540,\n",
              " 321699,\n",
              " 308246,\n",
              " 211641,\n",
              " 303783,\n",
              " 283669,\n",
              " 277766,\n",
              " 261011,\n",
              " 242810,\n",
              " 256380,\n",
              " 316133,\n",
              " 307470,\n",
              " 237278,\n",
              " 247572,\n",
              " 320370,\n",
              " 310284,\n",
              " 256459,\n",
              " 267720,\n",
              " 352219,\n",
              " 341390,\n",
              " 273646,\n",
              " 288238,\n",
              " 357138,\n",
              " 362488,\n",
              " 286784,\n",
              " 307254,\n",
              " 386464,\n",
              " 373526,\n",
              " 284700,\n",
              " 301302,\n",
              " 387099,\n",
              " 364880,\n",
              " 246806,\n",
              " 271922,\n",
              " 343151,\n",
              " 331556,\n",
              " 270749,\n",
              " 282049,\n",
              " 358383,\n",
              " 353471,\n",
              " 239960,\n",
              " 257323,\n",
              " 313110,\n",
              " 312642,\n",
              " 249729,\n",
              " 264396,\n",
              " 313389,\n",
              " 310722,\n",
              " 226349,\n",
              " 232613,\n",
              " 274223,\n",
              " 261477,\n",
              " 214074,\n",
              " 222485,\n",
              " 270168,\n",
              " 257190,\n",
              " 248521,\n",
              " 263407,\n",
              " 327187,\n",
              " 319873]"
            ]
          },
          "metadata": {
            "tags": []
          },
          "execution_count": 26
        }
      ]
    },
    {
      "cell_type": "code",
      "metadata": {
        "colab": {
          "base_uri": "https://localhost:8080/",
          "height": 352
        },
        "id": "kihH5AbyImqB",
        "outputId": "d1bb36fa-4c20-49ea-b83f-226938c7f185"
      },
      "source": [
        "# visualise outliers\n",
        "x=range(0,322)\n",
        "y=outlier\n",
        "sns.scatterplot(x,y)\n",
        "plt.ylabel('No.of passengers')\n",
        "plt.title('OUTLIERS')"
      ],
      "execution_count": 27,
      "outputs": [
        {
          "output_type": "stream",
          "text": [
            "/usr/local/lib/python3.7/dist-packages/seaborn/_decorators.py:43: FutureWarning: Pass the following variables as keyword args: x, y. From version 0.12, the only valid positional argument will be `data`, and passing other arguments without an explicit keyword will result in an error or misinterpretation.\n",
            "  FutureWarning\n"
          ],
          "name": "stderr"
        },
        {
          "output_type": "execute_result",
          "data": {
            "text/plain": [
              "Text(0.5, 1.0, 'OUTLIERS')"
            ]
          },
          "metadata": {
            "tags": []
          },
          "execution_count": 27
        },
        {
          "output_type": "display_data",
          "data": {
            "image/png": "[encoded data removed]",
            "text/plain": [
              "<Figure size 432x288 with 1 Axes>"
            ]
          },
          "metadata": {
            "tags": [],
            "needs_background": "light"
          }
        }
      ]
    },
    {
      "cell_type": "code",
      "metadata": {
        "colab": {
          "base_uri": "https://localhost:8080/",
          "height": 312
        },
        "id": "HcfNJzFVfyc7",
        "outputId": "688d94d6-53ec-4e4e-c17f-d2f6a204cb3b"
      },
      "source": [
        "x=range(1,15008)\n",
        "y=dataset['Adjusted Passenger Count']\n",
        "plt.scatter(x,y)\n",
        "plt.xlabel('No.of examples')\n",
        "plt.ylabel('No.of passengers')\n",
        "plt.title('Scatter plot of number of passengers')"
      ],
      "execution_count": 28,
      "outputs": [
        {
          "output_type": "execute_result",
          "data": {
            "text/plain": [
              "Text(0.5, 1.0, 'Scatter plot of number of passengers')"
            ]
          },
          "metadata": {
            "tags": []
          },
          "execution_count": 28
        },
        {
          "output_type": "display_data",
          "data": {
            "image/png": "[encoded data removed]",
            "text/plain": [
              "<Figure size 432x288 with 1 Axes>"
            ]
          },
          "metadata": {
            "tags": [],
            "needs_background": "light"
          }
        }
      ]
    },
    {
      "cell_type": "code",
      "metadata": {
        "colab": {
          "base_uri": "https://localhost:8080/",
          "height": 300
        },
        "id": "YI7o5WVlybqo",
        "outputId": "c0816cd1-bbf2-45a0-9629-a9614552255d"
      },
      "source": [
        "plt.figure(figsize=(16,4))\n",
        "plt.axis([0, 500000, 0, 14000])\n",
        "plt.hist(dataset['Adjusted Passenger Count'],alpha=0.5)\n",
        "plt.xlabel('Number of passengers')\n",
        "plt.ylabel('Number of Airlines')"
      ],
      "execution_count": 29,
      "outputs": [
        {
          "output_type": "execute_result",
          "data": {
            "text/plain": [
              "Text(0, 0.5, 'Number of Airlines')"
            ]
          },
          "metadata": {
            "tags": []
          },
          "execution_count": 29
        },
        {
          "output_type": "display_data",
          "data": {
            "image/png": "[encoded data removed]",
            "text/plain": [
              "<Figure size 1152x288 with 1 Axes>"
            ]
          },
          "metadata": {
            "tags": [],
            "needs_background": "light"
          }
        }
      ]
    },
    {
      "cell_type": "code",
      "metadata": {
        "id": "GjKn_VJcgCmM",
        "colab": {
          "base_uri": "https://localhost:8080/",
          "height": 606
        },
        "outputId": "20fb7f42-19e0-4fed-c878-aaddc4407a8d"
      },
      "source": [
        "# View the outliers\n",
        "d=dataset[dataset['Adjusted Passenger Count']>=min(outlier)]\n",
        "d"
      ],
      "execution_count": 30,
      "outputs": [
        {
          "output_type": "execute_result",
          "data": {
            "text/html": [
              "<div>\n",
              "<style scoped>\n",
              "    .dataframe tbody tr th:only-of-type {\n",
              "        vertical-align: middle;\n",
              "    }\n",
              "\n",
              "    .dataframe tbody tr th {\n",
              "        vertical-align: top;\n",
              "    }\n",
              "\n",
              "    .dataframe thead th {\n",
              "        text-align: right;\n",
              "    }\n",
              "</style>\n",
              "<table border=\"1\" class=\"dataframe\">\n",
              "  <thead>\n",
              "    <tr style=\"text-align: right;\">\n",
              "      <th></th>\n",
              "      <th>Activity Period</th>\n",
              "      <th>Operating Airline</th>\n",
              "      <th>Published Airline</th>\n",
              "      <th>GEO Summary</th>\n",
              "      <th>GEO Region</th>\n",
              "      <th>Price Category Code</th>\n",
              "      <th>Terminal</th>\n",
              "      <th>Boarding Area</th>\n",
              "      <th>Adjusted Activity Type Code</th>\n",
              "      <th>Adjusted Passenger Count</th>\n",
              "    </tr>\n",
              "  </thead>\n",
              "  <tbody>\n",
              "    <tr>\n",
              "      <th>93</th>\n",
              "      <td>200507</td>\n",
              "      <td>United Airlines - Pre 07/01/2013</td>\n",
              "      <td>United Airlines - Pre 07/01/2013</td>\n",
              "      <td>Domestic</td>\n",
              "      <td>US</td>\n",
              "      <td>Other</td>\n",
              "      <td>Terminal 3</td>\n",
              "      <td>F</td>\n",
              "      <td>Deplaned</td>\n",
              "      <td>443656</td>\n",
              "    </tr>\n",
              "    <tr>\n",
              "      <th>94</th>\n",
              "      <td>200507</td>\n",
              "      <td>United Airlines - Pre 07/01/2013</td>\n",
              "      <td>United Airlines - Pre 07/01/2013</td>\n",
              "      <td>Domestic</td>\n",
              "      <td>US</td>\n",
              "      <td>Other</td>\n",
              "      <td>Terminal 3</td>\n",
              "      <td>F</td>\n",
              "      <td>Enplaned</td>\n",
              "      <td>421802</td>\n",
              "    </tr>\n",
              "    <tr>\n",
              "      <th>212</th>\n",
              "      <td>200508</td>\n",
              "      <td>United Airlines - Pre 07/01/2013</td>\n",
              "      <td>United Airlines - Pre 07/01/2013</td>\n",
              "      <td>Domestic</td>\n",
              "      <td>US</td>\n",
              "      <td>Other</td>\n",
              "      <td>Terminal 3</td>\n",
              "      <td>F</td>\n",
              "      <td>Deplaned</td>\n",
              "      <td>420430</td>\n",
              "    </tr>\n",
              "    <tr>\n",
              "      <th>213</th>\n",
              "      <td>200508</td>\n",
              "      <td>United Airlines - Pre 07/01/2013</td>\n",
              "      <td>United Airlines - Pre 07/01/2013</td>\n",
              "      <td>Domestic</td>\n",
              "      <td>US</td>\n",
              "      <td>Other</td>\n",
              "      <td>Terminal 3</td>\n",
              "      <td>F</td>\n",
              "      <td>Enplaned</td>\n",
              "      <td>398135</td>\n",
              "    </tr>\n",
              "    <tr>\n",
              "      <th>330</th>\n",
              "      <td>200509</td>\n",
              "      <td>United Airlines - Pre 07/01/2013</td>\n",
              "      <td>United Airlines - Pre 07/01/2013</td>\n",
              "      <td>Domestic</td>\n",
              "      <td>US</td>\n",
              "      <td>Other</td>\n",
              "      <td>Terminal 3</td>\n",
              "      <td>F</td>\n",
              "      <td>Deplaned</td>\n",
              "      <td>357533</td>\n",
              "    </tr>\n",
              "    <tr>\n",
              "      <th>...</th>\n",
              "      <td>...</td>\n",
              "      <td>...</td>\n",
              "      <td>...</td>\n",
              "      <td>...</td>\n",
              "      <td>...</td>\n",
              "      <td>...</td>\n",
              "      <td>...</td>\n",
              "      <td>...</td>\n",
              "      <td>...</td>\n",
              "      <td>...</td>\n",
              "    </tr>\n",
              "    <tr>\n",
              "      <th>14859</th>\n",
              "      <td>201602</td>\n",
              "      <td>United Airlines</td>\n",
              "      <td>United Airlines</td>\n",
              "      <td>Domestic</td>\n",
              "      <td>US</td>\n",
              "      <td>Other</td>\n",
              "      <td>Terminal 3</td>\n",
              "      <td>F</td>\n",
              "      <td>Enplaned</td>\n",
              "      <td>257190</td>\n",
              "    </tr>\n",
              "    <tr>\n",
              "      <th>14979</th>\n",
              "      <td>201603</td>\n",
              "      <td>United Airlines</td>\n",
              "      <td>United Airlines</td>\n",
              "      <td>Domestic</td>\n",
              "      <td>US</td>\n",
              "      <td>Other</td>\n",
              "      <td>Terminal 3</td>\n",
              "      <td>E</td>\n",
              "      <td>Deplaned</td>\n",
              "      <td>248521</td>\n",
              "    </tr>\n",
              "    <tr>\n",
              "      <th>14980</th>\n",
              "      <td>201603</td>\n",
              "      <td>United Airlines</td>\n",
              "      <td>United Airlines</td>\n",
              "      <td>Domestic</td>\n",
              "      <td>US</td>\n",
              "      <td>Other</td>\n",
              "      <td>Terminal 3</td>\n",
              "      <td>E</td>\n",
              "      <td>Enplaned</td>\n",
              "      <td>263407</td>\n",
              "    </tr>\n",
              "    <tr>\n",
              "      <th>14982</th>\n",
              "      <td>201603</td>\n",
              "      <td>United Airlines</td>\n",
              "      <td>United Airlines</td>\n",
              "      <td>Domestic</td>\n",
              "      <td>US</td>\n",
              "      <td>Other</td>\n",
              "      <td>Terminal 3</td>\n",
              "      <td>F</td>\n",
              "      <td>Deplaned</td>\n",
              "      <td>327187</td>\n",
              "    </tr>\n",
              "    <tr>\n",
              "      <th>14983</th>\n",
              "      <td>201603</td>\n",
              "      <td>United Airlines</td>\n",
              "      <td>United Airlines</td>\n",
              "      <td>Domestic</td>\n",
              "      <td>US</td>\n",
              "      <td>Other</td>\n",
              "      <td>Terminal 3</td>\n",
              "      <td>F</td>\n",
              "      <td>Enplaned</td>\n",
              "      <td>319873</td>\n",
              "    </tr>\n",
              "  </tbody>\n",
              "</table>\n",
              "<p>322 rows × 10 columns</p>\n",
              "</div>"
            ],
            "text/plain": [
              "       Activity Period  ... Adjusted Passenger Count\n",
              "93              200507  ...                   443656\n",
              "94              200507  ...                   421802\n",
              "212             200508  ...                   420430\n",
              "213             200508  ...                   398135\n",
              "330             200509  ...                   357533\n",
              "...                ...  ...                      ...\n",
              "14859           201602  ...                   257190\n",
              "14979           201603  ...                   248521\n",
              "14980           201603  ...                   263407\n",
              "14982           201603  ...                   327187\n",
              "14983           201603  ...                   319873\n",
              "\n",
              "[322 rows x 10 columns]"
            ]
          },
          "metadata": {
            "tags": []
          },
          "execution_count": 30
        }
      ]
    },
    {
      "cell_type": "code",
      "metadata": {
        "colab": {
          "base_uri": "https://localhost:8080/"
        },
        "id": "C0G1ZwTmFLsC",
        "outputId": "97666014-271e-4ada-c2b0-b9a0997d091c"
      },
      "source": [
        "dataset.quantile(1)"
      ],
      "execution_count": 31,
      "outputs": [
        {
          "output_type": "execute_result",
          "data": {
            "text/plain": [
              "Activity Period             201603.0\n",
              "Adjusted Passenger Count    659837.0\n",
              "Name: 1, dtype: float64"
            ]
          },
          "metadata": {
            "tags": []
          },
          "execution_count": 31
        }
      ]
    },
    {
      "cell_type": "code",
      "metadata": {
        "colab": {
          "base_uri": "https://localhost:8080/",
          "height": 419
        },
        "id": "RxxzIh-xlEXw",
        "outputId": "d16ca2a8-f2f0-4741-9a4f-891dacb367ee"
      },
      "source": [
        "# We can notice that most examples in the outliers are from 'United Airlines',let's confirm it by visualising\n",
        "d[d['Operating Airline']=='United Airlines']"
      ],
      "execution_count": 32,
      "outputs": [
        {
          "output_type": "execute_result",
          "data": {
            "text/html": [
              "<div>\n",
              "<style scoped>\n",
              "    .dataframe tbody tr th:only-of-type {\n",
              "        vertical-align: middle;\n",
              "    }\n",
              "\n",
              "    .dataframe tbody tr th {\n",
              "        vertical-align: top;\n",
              "    }\n",
              "\n",
              "    .dataframe thead th {\n",
              "        text-align: right;\n",
              "    }\n",
              "</style>\n",
              "<table border=\"1\" class=\"dataframe\">\n",
              "  <thead>\n",
              "    <tr style=\"text-align: right;\">\n",
              "      <th></th>\n",
              "      <th>Activity Period</th>\n",
              "      <th>Operating Airline</th>\n",
              "      <th>Published Airline</th>\n",
              "      <th>GEO Summary</th>\n",
              "      <th>GEO Region</th>\n",
              "      <th>Price Category Code</th>\n",
              "      <th>Terminal</th>\n",
              "      <th>Boarding Area</th>\n",
              "      <th>Adjusted Activity Type Code</th>\n",
              "      <th>Adjusted Passenger Count</th>\n",
              "    </tr>\n",
              "  </thead>\n",
              "  <tbody>\n",
              "    <tr>\n",
              "      <th>10198</th>\n",
              "      <td>201210</td>\n",
              "      <td>United Airlines</td>\n",
              "      <td>United Airlines</td>\n",
              "      <td>Domestic</td>\n",
              "      <td>US</td>\n",
              "      <td>Other</td>\n",
              "      <td>Terminal 3</td>\n",
              "      <td>F</td>\n",
              "      <td>Deplaned</td>\n",
              "      <td>218215</td>\n",
              "    </tr>\n",
              "    <tr>\n",
              "      <th>10199</th>\n",
              "      <td>201210</td>\n",
              "      <td>United Airlines</td>\n",
              "      <td>United Airlines</td>\n",
              "      <td>Domestic</td>\n",
              "      <td>US</td>\n",
              "      <td>Other</td>\n",
              "      <td>Terminal 3</td>\n",
              "      <td>F</td>\n",
              "      <td>Enplaned</td>\n",
              "      <td>218261</td>\n",
              "    </tr>\n",
              "    <tr>\n",
              "      <th>10312</th>\n",
              "      <td>201211</td>\n",
              "      <td>United Airlines</td>\n",
              "      <td>United Airlines</td>\n",
              "      <td>Domestic</td>\n",
              "      <td>US</td>\n",
              "      <td>Other</td>\n",
              "      <td>Terminal 3</td>\n",
              "      <td>F</td>\n",
              "      <td>Deplaned</td>\n",
              "      <td>214589</td>\n",
              "    </tr>\n",
              "    <tr>\n",
              "      <th>10313</th>\n",
              "      <td>201211</td>\n",
              "      <td>United Airlines</td>\n",
              "      <td>United Airlines</td>\n",
              "      <td>Domestic</td>\n",
              "      <td>US</td>\n",
              "      <td>Other</td>\n",
              "      <td>Terminal 3</td>\n",
              "      <td>F</td>\n",
              "      <td>Enplaned</td>\n",
              "      <td>216903</td>\n",
              "    </tr>\n",
              "    <tr>\n",
              "      <th>10428</th>\n",
              "      <td>201212</td>\n",
              "      <td>United Airlines</td>\n",
              "      <td>United Airlines</td>\n",
              "      <td>Domestic</td>\n",
              "      <td>US</td>\n",
              "      <td>Other</td>\n",
              "      <td>Terminal 3</td>\n",
              "      <td>F</td>\n",
              "      <td>Deplaned</td>\n",
              "      <td>217757</td>\n",
              "    </tr>\n",
              "    <tr>\n",
              "      <th>...</th>\n",
              "      <td>...</td>\n",
              "      <td>...</td>\n",
              "      <td>...</td>\n",
              "      <td>...</td>\n",
              "      <td>...</td>\n",
              "      <td>...</td>\n",
              "      <td>...</td>\n",
              "      <td>...</td>\n",
              "      <td>...</td>\n",
              "      <td>...</td>\n",
              "    </tr>\n",
              "    <tr>\n",
              "      <th>14859</th>\n",
              "      <td>201602</td>\n",
              "      <td>United Airlines</td>\n",
              "      <td>United Airlines</td>\n",
              "      <td>Domestic</td>\n",
              "      <td>US</td>\n",
              "      <td>Other</td>\n",
              "      <td>Terminal 3</td>\n",
              "      <td>F</td>\n",
              "      <td>Enplaned</td>\n",
              "      <td>257190</td>\n",
              "    </tr>\n",
              "    <tr>\n",
              "      <th>14979</th>\n",
              "      <td>201603</td>\n",
              "      <td>United Airlines</td>\n",
              "      <td>United Airlines</td>\n",
              "      <td>Domestic</td>\n",
              "      <td>US</td>\n",
              "      <td>Other</td>\n",
              "      <td>Terminal 3</td>\n",
              "      <td>E</td>\n",
              "      <td>Deplaned</td>\n",
              "      <td>248521</td>\n",
              "    </tr>\n",
              "    <tr>\n",
              "      <th>14980</th>\n",
              "      <td>201603</td>\n",
              "      <td>United Airlines</td>\n",
              "      <td>United Airlines</td>\n",
              "      <td>Domestic</td>\n",
              "      <td>US</td>\n",
              "      <td>Other</td>\n",
              "      <td>Terminal 3</td>\n",
              "      <td>E</td>\n",
              "      <td>Enplaned</td>\n",
              "      <td>263407</td>\n",
              "    </tr>\n",
              "    <tr>\n",
              "      <th>14982</th>\n",
              "      <td>201603</td>\n",
              "      <td>United Airlines</td>\n",
              "      <td>United Airlines</td>\n",
              "      <td>Domestic</td>\n",
              "      <td>US</td>\n",
              "      <td>Other</td>\n",
              "      <td>Terminal 3</td>\n",
              "      <td>F</td>\n",
              "      <td>Deplaned</td>\n",
              "      <td>327187</td>\n",
              "    </tr>\n",
              "    <tr>\n",
              "      <th>14983</th>\n",
              "      <td>201603</td>\n",
              "      <td>United Airlines</td>\n",
              "      <td>United Airlines</td>\n",
              "      <td>Domestic</td>\n",
              "      <td>US</td>\n",
              "      <td>Other</td>\n",
              "      <td>Terminal 3</td>\n",
              "      <td>F</td>\n",
              "      <td>Enplaned</td>\n",
              "      <td>319873</td>\n",
              "    </tr>\n",
              "  </tbody>\n",
              "</table>\n",
              "<p>130 rows × 10 columns</p>\n",
              "</div>"
            ],
            "text/plain": [
              "       Activity Period  ... Adjusted Passenger Count\n",
              "10198           201210  ...                   218215\n",
              "10199           201210  ...                   218261\n",
              "10312           201211  ...                   214589\n",
              "10313           201211  ...                   216903\n",
              "10428           201212  ...                   217757\n",
              "...                ...  ...                      ...\n",
              "14859           201602  ...                   257190\n",
              "14979           201603  ...                   248521\n",
              "14980           201603  ...                   263407\n",
              "14982           201603  ...                   327187\n",
              "14983           201603  ...                   319873\n",
              "\n",
              "[130 rows x 10 columns]"
            ]
          },
          "metadata": {
            "tags": []
          },
          "execution_count": 32
        }
      ]
    },
    {
      "cell_type": "code",
      "metadata": {
        "colab": {
          "base_uri": "https://localhost:8080/",
          "height": 606
        },
        "id": "ds0bWGr9lUso",
        "outputId": "10825244-e214-455d-ebd5-ca8620943bd6"
      },
      "source": [
        "d[d['Operating Airline']!='United Airlines']"
      ],
      "execution_count": 33,
      "outputs": [
        {
          "output_type": "execute_result",
          "data": {
            "text/html": [
              "<div>\n",
              "<style scoped>\n",
              "    .dataframe tbody tr th:only-of-type {\n",
              "        vertical-align: middle;\n",
              "    }\n",
              "\n",
              "    .dataframe tbody tr th {\n",
              "        vertical-align: top;\n",
              "    }\n",
              "\n",
              "    .dataframe thead th {\n",
              "        text-align: right;\n",
              "    }\n",
              "</style>\n",
              "<table border=\"1\" class=\"dataframe\">\n",
              "  <thead>\n",
              "    <tr style=\"text-align: right;\">\n",
              "      <th></th>\n",
              "      <th>Activity Period</th>\n",
              "      <th>Operating Airline</th>\n",
              "      <th>Published Airline</th>\n",
              "      <th>GEO Summary</th>\n",
              "      <th>GEO Region</th>\n",
              "      <th>Price Category Code</th>\n",
              "      <th>Terminal</th>\n",
              "      <th>Boarding Area</th>\n",
              "      <th>Adjusted Activity Type Code</th>\n",
              "      <th>Adjusted Passenger Count</th>\n",
              "    </tr>\n",
              "  </thead>\n",
              "  <tbody>\n",
              "    <tr>\n",
              "      <th>93</th>\n",
              "      <td>200507</td>\n",
              "      <td>United Airlines - Pre 07/01/2013</td>\n",
              "      <td>United Airlines - Pre 07/01/2013</td>\n",
              "      <td>Domestic</td>\n",
              "      <td>US</td>\n",
              "      <td>Other</td>\n",
              "      <td>Terminal 3</td>\n",
              "      <td>F</td>\n",
              "      <td>Deplaned</td>\n",
              "      <td>443656</td>\n",
              "    </tr>\n",
              "    <tr>\n",
              "      <th>94</th>\n",
              "      <td>200507</td>\n",
              "      <td>United Airlines - Pre 07/01/2013</td>\n",
              "      <td>United Airlines - Pre 07/01/2013</td>\n",
              "      <td>Domestic</td>\n",
              "      <td>US</td>\n",
              "      <td>Other</td>\n",
              "      <td>Terminal 3</td>\n",
              "      <td>F</td>\n",
              "      <td>Enplaned</td>\n",
              "      <td>421802</td>\n",
              "    </tr>\n",
              "    <tr>\n",
              "      <th>212</th>\n",
              "      <td>200508</td>\n",
              "      <td>United Airlines - Pre 07/01/2013</td>\n",
              "      <td>United Airlines - Pre 07/01/2013</td>\n",
              "      <td>Domestic</td>\n",
              "      <td>US</td>\n",
              "      <td>Other</td>\n",
              "      <td>Terminal 3</td>\n",
              "      <td>F</td>\n",
              "      <td>Deplaned</td>\n",
              "      <td>420430</td>\n",
              "    </tr>\n",
              "    <tr>\n",
              "      <th>213</th>\n",
              "      <td>200508</td>\n",
              "      <td>United Airlines - Pre 07/01/2013</td>\n",
              "      <td>United Airlines - Pre 07/01/2013</td>\n",
              "      <td>Domestic</td>\n",
              "      <td>US</td>\n",
              "      <td>Other</td>\n",
              "      <td>Terminal 3</td>\n",
              "      <td>F</td>\n",
              "      <td>Enplaned</td>\n",
              "      <td>398135</td>\n",
              "    </tr>\n",
              "    <tr>\n",
              "      <th>330</th>\n",
              "      <td>200509</td>\n",
              "      <td>United Airlines - Pre 07/01/2013</td>\n",
              "      <td>United Airlines - Pre 07/01/2013</td>\n",
              "      <td>Domestic</td>\n",
              "      <td>US</td>\n",
              "      <td>Other</td>\n",
              "      <td>Terminal 3</td>\n",
              "      <td>F</td>\n",
              "      <td>Deplaned</td>\n",
              "      <td>357533</td>\n",
              "    </tr>\n",
              "    <tr>\n",
              "      <th>...</th>\n",
              "      <td>...</td>\n",
              "      <td>...</td>\n",
              "      <td>...</td>\n",
              "      <td>...</td>\n",
              "      <td>...</td>\n",
              "      <td>...</td>\n",
              "      <td>...</td>\n",
              "      <td>...</td>\n",
              "      <td>...</td>\n",
              "      <td>...</td>\n",
              "    </tr>\n",
              "    <tr>\n",
              "      <th>10874</th>\n",
              "      <td>201304</td>\n",
              "      <td>United Airlines - Pre 07/01/2013</td>\n",
              "      <td>United Airlines - Pre 07/01/2013</td>\n",
              "      <td>Domestic</td>\n",
              "      <td>US</td>\n",
              "      <td>Other</td>\n",
              "      <td>Terminal 3</td>\n",
              "      <td>F</td>\n",
              "      <td>Enplaned</td>\n",
              "      <td>301722</td>\n",
              "    </tr>\n",
              "    <tr>\n",
              "      <th>10989</th>\n",
              "      <td>201305</td>\n",
              "      <td>United Airlines - Pre 07/01/2013</td>\n",
              "      <td>United Airlines - Pre 07/01/2013</td>\n",
              "      <td>Domestic</td>\n",
              "      <td>US</td>\n",
              "      <td>Other</td>\n",
              "      <td>Terminal 3</td>\n",
              "      <td>F</td>\n",
              "      <td>Deplaned</td>\n",
              "      <td>323476</td>\n",
              "    </tr>\n",
              "    <tr>\n",
              "      <th>10990</th>\n",
              "      <td>201305</td>\n",
              "      <td>United Airlines - Pre 07/01/2013</td>\n",
              "      <td>United Airlines - Pre 07/01/2013</td>\n",
              "      <td>Domestic</td>\n",
              "      <td>US</td>\n",
              "      <td>Other</td>\n",
              "      <td>Terminal 3</td>\n",
              "      <td>F</td>\n",
              "      <td>Enplaned</td>\n",
              "      <td>325203</td>\n",
              "    </tr>\n",
              "    <tr>\n",
              "      <th>11101</th>\n",
              "      <td>201306</td>\n",
              "      <td>United Airlines - Pre 07/01/2013</td>\n",
              "      <td>United Airlines - Pre 07/01/2013</td>\n",
              "      <td>Domestic</td>\n",
              "      <td>US</td>\n",
              "      <td>Other</td>\n",
              "      <td>Terminal 3</td>\n",
              "      <td>F</td>\n",
              "      <td>Deplaned</td>\n",
              "      <td>309798</td>\n",
              "    </tr>\n",
              "    <tr>\n",
              "      <th>11102</th>\n",
              "      <td>201306</td>\n",
              "      <td>United Airlines - Pre 07/01/2013</td>\n",
              "      <td>United Airlines - Pre 07/01/2013</td>\n",
              "      <td>Domestic</td>\n",
              "      <td>US</td>\n",
              "      <td>Other</td>\n",
              "      <td>Terminal 3</td>\n",
              "      <td>F</td>\n",
              "      <td>Enplaned</td>\n",
              "      <td>302480</td>\n",
              "    </tr>\n",
              "  </tbody>\n",
              "</table>\n",
              "<p>192 rows × 10 columns</p>\n",
              "</div>"
            ],
            "text/plain": [
              "       Activity Period  ... Adjusted Passenger Count\n",
              "93              200507  ...                   443656\n",
              "94              200507  ...                   421802\n",
              "212             200508  ...                   420430\n",
              "213             200508  ...                   398135\n",
              "330             200509  ...                   357533\n",
              "...                ...  ...                      ...\n",
              "10874           201304  ...                   301722\n",
              "10989           201305  ...                   323476\n",
              "10990           201305  ...                   325203\n",
              "11101           201306  ...                   309798\n",
              "11102           201306  ...                   302480\n",
              "\n",
              "[192 rows x 10 columns]"
            ]
          },
          "metadata": {
            "tags": []
          },
          "execution_count": 33
        }
      ]
    },
    {
      "cell_type": "markdown",
      "metadata": {
        "id": "9PkOSOlqJAii"
      },
      "source": [
        "**Important Insight: All the 322 outliers are from United Airlines. This explicitly tells us that these outliers cannot be treated as anamoly in data. This evidents that United Airlines has abnormally highest capacity**"
      ]
    },
    {
      "cell_type": "code",
      "metadata": {
        "colab": {
          "base_uri": "https://localhost:8080/",
          "height": 419
        },
        "id": "4p3O7XbilmB0",
        "outputId": "a35fe36c-cd44-4ebc-e979-246d732cd9a1"
      },
      "source": [
        "dataset[(dataset['Operating Airline']=='United Airlines') & (dataset['Boarding Area']=='F')]"
      ],
      "execution_count": 34,
      "outputs": [
        {
          "output_type": "execute_result",
          "data": {
            "text/html": [
              "<div>\n",
              "<style scoped>\n",
              "    .dataframe tbody tr th:only-of-type {\n",
              "        vertical-align: middle;\n",
              "    }\n",
              "\n",
              "    .dataframe tbody tr th {\n",
              "        vertical-align: top;\n",
              "    }\n",
              "\n",
              "    .dataframe thead th {\n",
              "        text-align: right;\n",
              "    }\n",
              "</style>\n",
              "<table border=\"1\" class=\"dataframe\">\n",
              "  <thead>\n",
              "    <tr style=\"text-align: right;\">\n",
              "      <th></th>\n",
              "      <th>Activity Period</th>\n",
              "      <th>Operating Airline</th>\n",
              "      <th>Published Airline</th>\n",
              "      <th>GEO Summary</th>\n",
              "      <th>GEO Region</th>\n",
              "      <th>Price Category Code</th>\n",
              "      <th>Terminal</th>\n",
              "      <th>Boarding Area</th>\n",
              "      <th>Adjusted Activity Type Code</th>\n",
              "      <th>Adjusted Passenger Count</th>\n",
              "    </tr>\n",
              "  </thead>\n",
              "  <tbody>\n",
              "    <tr>\n",
              "      <th>8231</th>\n",
              "      <td>201105</td>\n",
              "      <td>United Airlines</td>\n",
              "      <td>United Airlines</td>\n",
              "      <td>Domestic</td>\n",
              "      <td>US</td>\n",
              "      <td>Other</td>\n",
              "      <td>Terminal 3</td>\n",
              "      <td>F</td>\n",
              "      <td>Deplaned</td>\n",
              "      <td>54487</td>\n",
              "    </tr>\n",
              "    <tr>\n",
              "      <th>8232</th>\n",
              "      <td>201105</td>\n",
              "      <td>United Airlines</td>\n",
              "      <td>United Airlines</td>\n",
              "      <td>Domestic</td>\n",
              "      <td>US</td>\n",
              "      <td>Other</td>\n",
              "      <td>Terminal 3</td>\n",
              "      <td>F</td>\n",
              "      <td>Enplaned</td>\n",
              "      <td>53997</td>\n",
              "    </tr>\n",
              "    <tr>\n",
              "      <th>8349</th>\n",
              "      <td>201106</td>\n",
              "      <td>United Airlines</td>\n",
              "      <td>United Airlines</td>\n",
              "      <td>Domestic</td>\n",
              "      <td>US</td>\n",
              "      <td>Other</td>\n",
              "      <td>Terminal 3</td>\n",
              "      <td>F</td>\n",
              "      <td>Deplaned</td>\n",
              "      <td>78131</td>\n",
              "    </tr>\n",
              "    <tr>\n",
              "      <th>8350</th>\n",
              "      <td>201106</td>\n",
              "      <td>United Airlines</td>\n",
              "      <td>United Airlines</td>\n",
              "      <td>Domestic</td>\n",
              "      <td>US</td>\n",
              "      <td>Other</td>\n",
              "      <td>Terminal 3</td>\n",
              "      <td>F</td>\n",
              "      <td>Enplaned</td>\n",
              "      <td>81444</td>\n",
              "    </tr>\n",
              "    <tr>\n",
              "      <th>8466</th>\n",
              "      <td>201107</td>\n",
              "      <td>United Airlines</td>\n",
              "      <td>United Airlines</td>\n",
              "      <td>Domestic</td>\n",
              "      <td>US</td>\n",
              "      <td>Other</td>\n",
              "      <td>Terminal 3</td>\n",
              "      <td>F</td>\n",
              "      <td>Deplaned</td>\n",
              "      <td>85262</td>\n",
              "    </tr>\n",
              "    <tr>\n",
              "      <th>...</th>\n",
              "      <td>...</td>\n",
              "      <td>...</td>\n",
              "      <td>...</td>\n",
              "      <td>...</td>\n",
              "      <td>...</td>\n",
              "      <td>...</td>\n",
              "      <td>...</td>\n",
              "      <td>...</td>\n",
              "      <td>...</td>\n",
              "      <td>...</td>\n",
              "    </tr>\n",
              "    <tr>\n",
              "      <th>14983</th>\n",
              "      <td>201603</td>\n",
              "      <td>United Airlines</td>\n",
              "      <td>United Airlines</td>\n",
              "      <td>Domestic</td>\n",
              "      <td>US</td>\n",
              "      <td>Other</td>\n",
              "      <td>Terminal 3</td>\n",
              "      <td>F</td>\n",
              "      <td>Enplaned</td>\n",
              "      <td>319873</td>\n",
              "    </tr>\n",
              "    <tr>\n",
              "      <th>14984</th>\n",
              "      <td>201603</td>\n",
              "      <td>United Airlines</td>\n",
              "      <td>United Airlines</td>\n",
              "      <td>Domestic</td>\n",
              "      <td>US</td>\n",
              "      <td>Other</td>\n",
              "      <td>Terminal 3</td>\n",
              "      <td>F</td>\n",
              "      <td>Thru / Transit * 2</td>\n",
              "      <td>78</td>\n",
              "    </tr>\n",
              "    <tr>\n",
              "      <th>14993</th>\n",
              "      <td>201603</td>\n",
              "      <td>United Airlines</td>\n",
              "      <td>United Airlines</td>\n",
              "      <td>International</td>\n",
              "      <td>Canada</td>\n",
              "      <td>Other</td>\n",
              "      <td>Terminal 3</td>\n",
              "      <td>F</td>\n",
              "      <td>Deplaned</td>\n",
              "      <td>4388</td>\n",
              "    </tr>\n",
              "    <tr>\n",
              "      <th>14994</th>\n",
              "      <td>201603</td>\n",
              "      <td>United Airlines</td>\n",
              "      <td>United Airlines</td>\n",
              "      <td>International</td>\n",
              "      <td>Canada</td>\n",
              "      <td>Other</td>\n",
              "      <td>Terminal 3</td>\n",
              "      <td>F</td>\n",
              "      <td>Enplaned</td>\n",
              "      <td>9378</td>\n",
              "    </tr>\n",
              "    <tr>\n",
              "      <th>15000</th>\n",
              "      <td>201603</td>\n",
              "      <td>United Airlines</td>\n",
              "      <td>United Airlines</td>\n",
              "      <td>International</td>\n",
              "      <td>Mexico</td>\n",
              "      <td>Other</td>\n",
              "      <td>Terminal 3</td>\n",
              "      <td>F</td>\n",
              "      <td>Enplaned</td>\n",
              "      <td>17521</td>\n",
              "    </tr>\n",
              "  </tbody>\n",
              "</table>\n",
              "<p>237 rows × 10 columns</p>\n",
              "</div>"
            ],
            "text/plain": [
              "       Activity Period  ... Adjusted Passenger Count\n",
              "8231            201105  ...                    54487\n",
              "8232            201105  ...                    53997\n",
              "8349            201106  ...                    78131\n",
              "8350            201106  ...                    81444\n",
              "8466            201107  ...                    85262\n",
              "...                ...  ...                      ...\n",
              "14983           201603  ...                   319873\n",
              "14984           201603  ...                       78\n",
              "14993           201603  ...                     4388\n",
              "14994           201603  ...                     9378\n",
              "15000           201603  ...                    17521\n",
              "\n",
              "[237 rows x 10 columns]"
            ]
          },
          "metadata": {
            "tags": []
          },
          "execution_count": 34
        }
      ]
    },
    {
      "cell_type": "markdown",
      "metadata": {
        "id": "Tpxs2Yy5J2xv"
      },
      "source": [
        "**Though removing this outliers or handling them by converting into new values is not good method to practise,but as we first want to fit this model to LINEAR REGRESSION , we need to get rid of outliers to have better performance**"
      ]
    },
    {
      "cell_type": "code",
      "metadata": {
        "id": "FXz53mFYo78j"
      },
      "source": [
        "# Finding lower and upper quartiles\n",
        "l=dataset['Adjusted Passenger Count'].quantile(0.25)\n",
        "u=dataset['Adjusted Passenger Count'].quantile(0.75)\n",
        "iqr=u-l\n",
        "l=l-(1.5*iqr)\n",
        "u=u+(1.5*iqr)"
      ],
      "execution_count": 35,
      "outputs": []
    },
    {
      "cell_type": "code",
      "metadata": {
        "colab": {
          "base_uri": "https://localhost:8080/"
        },
        "id": "GLHADbwMpJe8",
        "outputId": "e576794b-15bf-496b-e775-f8448a84711c"
      },
      "source": [
        "print(l,u)"
      ],
      "execution_count": 36,
      "outputs": [
        {
          "output_type": "stream",
          "text": [
            "-18034.25 44711.75\n"
          ],
          "name": "stdout"
        }
      ]
    },
    {
      "cell_type": "code",
      "metadata": {
        "colab": {
          "base_uri": "https://localhost:8080/"
        },
        "id": "C1BZJ0n-4CRa",
        "outputId": "c5d845c8-f6c1-4a65-ea2b-3517f4819d8d"
      },
      "source": [
        "dataset['Adjusted Passenger Count'].min()"
      ],
      "execution_count": 37,
      "outputs": [
        {
          "output_type": "execute_result",
          "data": {
            "text/plain": [
              "1"
            ]
          },
          "metadata": {
            "tags": []
          },
          "execution_count": 37
        }
      ]
    },
    {
      "cell_type": "code",
      "metadata": {
        "colab": {
          "base_uri": "https://localhost:8080/"
        },
        "id": "ehh6Vw8f46Dh",
        "outputId": "bb0b2006-246a-44ec-80a3-701a3966b847"
      },
      "source": [
        "# Capping of outliers.\n",
        "for i in range(0,15007):\n",
        "  if (dataset['Adjusted Passenger Count'][i]>u):\n",
        "    dataset['Adjusted Passenger Count'][i]=u\n",
        "    if (dataset['Adjusted Passenger Count'][i]<l):\n",
        "      dataset['Adjusted Passenger Count'][i]=l"
      ],
      "execution_count": 38,
      "outputs": [
        {
          "output_type": "stream",
          "text": [
            "/usr/local/lib/python3.7/dist-packages/ipykernel_launcher.py:4: SettingWithCopyWarning: \n",
            "A value is trying to be set on a copy of a slice from a DataFrame\n",
            "\n",
            "See the caveats in the documentation: https://pandas.pydata.org/pandas-docs/stable/user_guide/indexing.html#returning-a-view-versus-a-copy\n",
            "  after removing the cwd from sys.path.\n"
          ],
          "name": "stderr"
        }
      ]
    },
    {
      "cell_type": "code",
      "metadata": {
        "colab": {
          "base_uri": "https://localhost:8080/",
          "height": 296
        },
        "id": "AePmScou4-sV",
        "outputId": "ac58d307-62da-4972-8b6c-25d2da65636d"
      },
      "source": [
        "sns.boxplot(x=dataset['Adjusted Passenger Count'])"
      ],
      "execution_count": 39,
      "outputs": [
        {
          "output_type": "execute_result",
          "data": {
            "text/plain": [
              "<matplotlib.axes._subplots.AxesSubplot at 0x7fed3ad6e590>"
            ]
          },
          "metadata": {
            "tags": []
          },
          "execution_count": 39
        },
        {
          "output_type": "display_data",
          "data": {
            "image/png": "[encoded data removed]",
            "text/plain": [
              "<Figure size 432x288 with 1 Axes>"
            ]
          },
          "metadata": {
            "tags": [],
            "needs_background": "light"
          }
        }
      ]
    },
    {
      "cell_type": "markdown",
      "metadata": {
        "id": "jDCSjq4PDqyW"
      },
      "source": [
        "**Converting Categorical Variables to Numeric**"
      ]
    },
    {
      "cell_type": "code",
      "metadata": {
        "colab": {
          "base_uri": "https://localhost:8080/",
          "height": 419
        },
        "id": "f32v_cewDpBa",
        "outputId": "273af5b1-a0bf-4acd-ac6b-3cb47e2356ab"
      },
      "source": [
        "dataset"
      ],
      "execution_count": 40,
      "outputs": [
        {
          "output_type": "execute_result",
          "data": {
            "text/html": [
              "<div>\n",
              "<style scoped>\n",
              "    .dataframe tbody tr th:only-of-type {\n",
              "        vertical-align: middle;\n",
              "    }\n",
              "\n",
              "    .dataframe tbody tr th {\n",
              "        vertical-align: top;\n",
              "    }\n",
              "\n",
              "    .dataframe thead th {\n",
              "        text-align: right;\n",
              "    }\n",
              "</style>\n",
              "<table border=\"1\" class=\"dataframe\">\n",
              "  <thead>\n",
              "    <tr style=\"text-align: right;\">\n",
              "      <th></th>\n",
              "      <th>Activity Period</th>\n",
              "      <th>Operating Airline</th>\n",
              "      <th>Published Airline</th>\n",
              "      <th>GEO Summary</th>\n",
              "      <th>GEO Region</th>\n",
              "      <th>Price Category Code</th>\n",
              "      <th>Terminal</th>\n",
              "      <th>Boarding Area</th>\n",
              "      <th>Adjusted Activity Type Code</th>\n",
              "      <th>Adjusted Passenger Count</th>\n",
              "    </tr>\n",
              "  </thead>\n",
              "  <tbody>\n",
              "    <tr>\n",
              "      <th>0</th>\n",
              "      <td>200507</td>\n",
              "      <td>ATA Airlines</td>\n",
              "      <td>ATA Airlines</td>\n",
              "      <td>Domestic</td>\n",
              "      <td>US</td>\n",
              "      <td>Low Fare</td>\n",
              "      <td>Terminal 1</td>\n",
              "      <td>B</td>\n",
              "      <td>Deplaned</td>\n",
              "      <td>27271</td>\n",
              "    </tr>\n",
              "    <tr>\n",
              "      <th>1</th>\n",
              "      <td>200507</td>\n",
              "      <td>ATA Airlines</td>\n",
              "      <td>ATA Airlines</td>\n",
              "      <td>Domestic</td>\n",
              "      <td>US</td>\n",
              "      <td>Low Fare</td>\n",
              "      <td>Terminal 1</td>\n",
              "      <td>B</td>\n",
              "      <td>Enplaned</td>\n",
              "      <td>29131</td>\n",
              "    </tr>\n",
              "    <tr>\n",
              "      <th>2</th>\n",
              "      <td>200507</td>\n",
              "      <td>ATA Airlines</td>\n",
              "      <td>ATA Airlines</td>\n",
              "      <td>Domestic</td>\n",
              "      <td>US</td>\n",
              "      <td>Low Fare</td>\n",
              "      <td>Terminal 1</td>\n",
              "      <td>B</td>\n",
              "      <td>Thru / Transit * 2</td>\n",
              "      <td>10830</td>\n",
              "    </tr>\n",
              "    <tr>\n",
              "      <th>3</th>\n",
              "      <td>200507</td>\n",
              "      <td>Air Canada</td>\n",
              "      <td>Air Canada</td>\n",
              "      <td>International</td>\n",
              "      <td>Canada</td>\n",
              "      <td>Other</td>\n",
              "      <td>Terminal 1</td>\n",
              "      <td>B</td>\n",
              "      <td>Deplaned</td>\n",
              "      <td>35156</td>\n",
              "    </tr>\n",
              "    <tr>\n",
              "      <th>4</th>\n",
              "      <td>200507</td>\n",
              "      <td>Air Canada</td>\n",
              "      <td>Air Canada</td>\n",
              "      <td>International</td>\n",
              "      <td>Canada</td>\n",
              "      <td>Other</td>\n",
              "      <td>Terminal 1</td>\n",
              "      <td>B</td>\n",
              "      <td>Enplaned</td>\n",
              "      <td>34090</td>\n",
              "    </tr>\n",
              "    <tr>\n",
              "      <th>...</th>\n",
              "      <td>...</td>\n",
              "      <td>...</td>\n",
              "      <td>...</td>\n",
              "      <td>...</td>\n",
              "      <td>...</td>\n",
              "      <td>...</td>\n",
              "      <td>...</td>\n",
              "      <td>...</td>\n",
              "      <td>...</td>\n",
              "      <td>...</td>\n",
              "    </tr>\n",
              "    <tr>\n",
              "      <th>15002</th>\n",
              "      <td>201603</td>\n",
              "      <td>Virgin America</td>\n",
              "      <td>Virgin America</td>\n",
              "      <td>Domestic</td>\n",
              "      <td>US</td>\n",
              "      <td>Low Fare</td>\n",
              "      <td>Terminal 2</td>\n",
              "      <td>D</td>\n",
              "      <td>Enplaned</td>\n",
              "      <td>44711</td>\n",
              "    </tr>\n",
              "    <tr>\n",
              "      <th>15003</th>\n",
              "      <td>201603</td>\n",
              "      <td>Virgin America</td>\n",
              "      <td>Virgin America</td>\n",
              "      <td>International</td>\n",
              "      <td>Mexico</td>\n",
              "      <td>Low Fare</td>\n",
              "      <td>International</td>\n",
              "      <td>A</td>\n",
              "      <td>Deplaned</td>\n",
              "      <td>4189</td>\n",
              "    </tr>\n",
              "    <tr>\n",
              "      <th>15004</th>\n",
              "      <td>201603</td>\n",
              "      <td>Virgin America</td>\n",
              "      <td>Virgin America</td>\n",
              "      <td>International</td>\n",
              "      <td>Mexico</td>\n",
              "      <td>Low Fare</td>\n",
              "      <td>Terminal 2</td>\n",
              "      <td>D</td>\n",
              "      <td>Enplaned</td>\n",
              "      <td>4693</td>\n",
              "    </tr>\n",
              "    <tr>\n",
              "      <th>15005</th>\n",
              "      <td>201603</td>\n",
              "      <td>Virgin Atlantic</td>\n",
              "      <td>Virgin Atlantic</td>\n",
              "      <td>International</td>\n",
              "      <td>Europe</td>\n",
              "      <td>Other</td>\n",
              "      <td>International</td>\n",
              "      <td>A</td>\n",
              "      <td>Deplaned</td>\n",
              "      <td>12313</td>\n",
              "    </tr>\n",
              "    <tr>\n",
              "      <th>15006</th>\n",
              "      <td>201603</td>\n",
              "      <td>Virgin Atlantic</td>\n",
              "      <td>Virgin Atlantic</td>\n",
              "      <td>International</td>\n",
              "      <td>Europe</td>\n",
              "      <td>Other</td>\n",
              "      <td>International</td>\n",
              "      <td>A</td>\n",
              "      <td>Enplaned</td>\n",
              "      <td>10898</td>\n",
              "    </tr>\n",
              "  </tbody>\n",
              "</table>\n",
              "<p>15007 rows × 10 columns</p>\n",
              "</div>"
            ],
            "text/plain": [
              "       Activity Period  ... Adjusted Passenger Count\n",
              "0               200507  ...                    27271\n",
              "1               200507  ...                    29131\n",
              "2               200507  ...                    10830\n",
              "3               200507  ...                    35156\n",
              "4               200507  ...                    34090\n",
              "...                ...  ...                      ...\n",
              "15002           201603  ...                    44711\n",
              "15003           201603  ...                     4189\n",
              "15004           201603  ...                     4693\n",
              "15005           201603  ...                    12313\n",
              "15006           201603  ...                    10898\n",
              "\n",
              "[15007 rows x 10 columns]"
            ]
          },
          "metadata": {
            "tags": []
          },
          "execution_count": 40
        }
      ]
    },
    {
      "cell_type": "code",
      "metadata": {
        "colab": {
          "base_uri": "https://localhost:8080/"
        },
        "id": "MLsyGGNKHQ2D",
        "outputId": "6be455b8-4983-48c4-c610-1c83c058a56d"
      },
      "source": [
        "dataset.columns"
      ],
      "execution_count": 41,
      "outputs": [
        {
          "output_type": "execute_result",
          "data": {
            "text/plain": [
              "Index(['Activity Period', 'Operating Airline', 'Published Airline',\n",
              "       'GEO Summary', 'GEO Region', 'Price Category Code', 'Terminal',\n",
              "       'Boarding Area', 'Adjusted Activity Type Code',\n",
              "       'Adjusted Passenger Count'],\n",
              "      dtype='object')"
            ]
          },
          "metadata": {
            "tags": []
          },
          "execution_count": 41
        }
      ]
    },
    {
      "cell_type": "code",
      "metadata": {
        "id": "BxxxAvxBD6e3",
        "colab": {
          "base_uri": "https://localhost:8080/",
          "height": 419
        },
        "outputId": "b4d7f312-33a9-45e5-c6b1-19ecbe485a50"
      },
      "source": [
        "# Storing independent variables in x and dependent variables in y.\n",
        "x=dataset.iloc[:,:-1]\n",
        "y=dataset.iloc[:,-1].values\n",
        "x"
      ],
      "execution_count": 42,
      "outputs": [
        {
          "output_type": "execute_result",
          "data": {
            "text/html": [
              "<div>\n",
              "<style scoped>\n",
              "    .dataframe tbody tr th:only-of-type {\n",
              "        vertical-align: middle;\n",
              "    }\n",
              "\n",
              "    .dataframe tbody tr th {\n",
              "        vertical-align: top;\n",
              "    }\n",
              "\n",
              "    .dataframe thead th {\n",
              "        text-align: right;\n",
              "    }\n",
              "</style>\n",
              "<table border=\"1\" class=\"dataframe\">\n",
              "  <thead>\n",
              "    <tr style=\"text-align: right;\">\n",
              "      <th></th>\n",
              "      <th>Activity Period</th>\n",
              "      <th>Operating Airline</th>\n",
              "      <th>Published Airline</th>\n",
              "      <th>GEO Summary</th>\n",
              "      <th>GEO Region</th>\n",
              "      <th>Price Category Code</th>\n",
              "      <th>Terminal</th>\n",
              "      <th>Boarding Area</th>\n",
              "      <th>Adjusted Activity Type Code</th>\n",
              "    </tr>\n",
              "  </thead>\n",
              "  <tbody>\n",
              "    <tr>\n",
              "      <th>0</th>\n",
              "      <td>200507</td>\n",
              "      <td>ATA Airlines</td>\n",
              "      <td>ATA Airlines</td>\n",
              "      <td>Domestic</td>\n",
              "      <td>US</td>\n",
              "      <td>Low Fare</td>\n",
              "      <td>Terminal 1</td>\n",
              "      <td>B</td>\n",
              "      <td>Deplaned</td>\n",
              "    </tr>\n",
              "    <tr>\n",
              "      <th>1</th>\n",
              "      <td>200507</td>\n",
              "      <td>ATA Airlines</td>\n",
              "      <td>ATA Airlines</td>\n",
              "      <td>Domestic</td>\n",
              "      <td>US</td>\n",
              "      <td>Low Fare</td>\n",
              "      <td>Terminal 1</td>\n",
              "      <td>B</td>\n",
              "      <td>Enplaned</td>\n",
              "    </tr>\n",
              "    <tr>\n",
              "      <th>2</th>\n",
              "      <td>200507</td>\n",
              "      <td>ATA Airlines</td>\n",
              "      <td>ATA Airlines</td>\n",
              "      <td>Domestic</td>\n",
              "      <td>US</td>\n",
              "      <td>Low Fare</td>\n",
              "      <td>Terminal 1</td>\n",
              "      <td>B</td>\n",
              "      <td>Thru / Transit * 2</td>\n",
              "    </tr>\n",
              "    <tr>\n",
              "      <th>3</th>\n",
              "      <td>200507</td>\n",
              "      <td>Air Canada</td>\n",
              "      <td>Air Canada</td>\n",
              "      <td>International</td>\n",
              "      <td>Canada</td>\n",
              "      <td>Other</td>\n",
              "      <td>Terminal 1</td>\n",
              "      <td>B</td>\n",
              "      <td>Deplaned</td>\n",
              "    </tr>\n",
              "    <tr>\n",
              "      <th>4</th>\n",
              "      <td>200507</td>\n",
              "      <td>Air Canada</td>\n",
              "      <td>Air Canada</td>\n",
              "      <td>International</td>\n",
              "      <td>Canada</td>\n",
              "      <td>Other</td>\n",
              "      <td>Terminal 1</td>\n",
              "      <td>B</td>\n",
              "      <td>Enplaned</td>\n",
              "    </tr>\n",
              "    <tr>\n",
              "      <th>...</th>\n",
              "      <td>...</td>\n",
              "      <td>...</td>\n",
              "      <td>...</td>\n",
              "      <td>...</td>\n",
              "      <td>...</td>\n",
              "      <td>...</td>\n",
              "      <td>...</td>\n",
              "      <td>...</td>\n",
              "      <td>...</td>\n",
              "    </tr>\n",
              "    <tr>\n",
              "      <th>15002</th>\n",
              "      <td>201603</td>\n",
              "      <td>Virgin America</td>\n",
              "      <td>Virgin America</td>\n",
              "      <td>Domestic</td>\n",
              "      <td>US</td>\n",
              "      <td>Low Fare</td>\n",
              "      <td>Terminal 2</td>\n",
              "      <td>D</td>\n",
              "      <td>Enplaned</td>\n",
              "    </tr>\n",
              "    <tr>\n",
              "      <th>15003</th>\n",
              "      <td>201603</td>\n",
              "      <td>Virgin America</td>\n",
              "      <td>Virgin America</td>\n",
              "      <td>International</td>\n",
              "      <td>Mexico</td>\n",
              "      <td>Low Fare</td>\n",
              "      <td>International</td>\n",
              "      <td>A</td>\n",
              "      <td>Deplaned</td>\n",
              "    </tr>\n",
              "    <tr>\n",
              "      <th>15004</th>\n",
              "      <td>201603</td>\n",
              "      <td>Virgin America</td>\n",
              "      <td>Virgin America</td>\n",
              "      <td>International</td>\n",
              "      <td>Mexico</td>\n",
              "      <td>Low Fare</td>\n",
              "      <td>Terminal 2</td>\n",
              "      <td>D</td>\n",
              "      <td>Enplaned</td>\n",
              "    </tr>\n",
              "    <tr>\n",
              "      <th>15005</th>\n",
              "      <td>201603</td>\n",
              "      <td>Virgin Atlantic</td>\n",
              "      <td>Virgin Atlantic</td>\n",
              "      <td>International</td>\n",
              "      <td>Europe</td>\n",
              "      <td>Other</td>\n",
              "      <td>International</td>\n",
              "      <td>A</td>\n",
              "      <td>Deplaned</td>\n",
              "    </tr>\n",
              "    <tr>\n",
              "      <th>15006</th>\n",
              "      <td>201603</td>\n",
              "      <td>Virgin Atlantic</td>\n",
              "      <td>Virgin Atlantic</td>\n",
              "      <td>International</td>\n",
              "      <td>Europe</td>\n",
              "      <td>Other</td>\n",
              "      <td>International</td>\n",
              "      <td>A</td>\n",
              "      <td>Enplaned</td>\n",
              "    </tr>\n",
              "  </tbody>\n",
              "</table>\n",
              "<p>15007 rows × 9 columns</p>\n",
              "</div>"
            ],
            "text/plain": [
              "       Activity Period  ... Adjusted Activity Type Code\n",
              "0               200507  ...                    Deplaned\n",
              "1               200507  ...                    Enplaned\n",
              "2               200507  ...          Thru / Transit * 2\n",
              "3               200507  ...                    Deplaned\n",
              "4               200507  ...                    Enplaned\n",
              "...                ...  ...                         ...\n",
              "15002           201603  ...                    Enplaned\n",
              "15003           201603  ...                    Deplaned\n",
              "15004           201603  ...                    Enplaned\n",
              "15005           201603  ...                    Deplaned\n",
              "15006           201603  ...                    Enplaned\n",
              "\n",
              "[15007 rows x 9 columns]"
            ]
          },
          "metadata": {
            "tags": []
          },
          "execution_count": 42
        }
      ]
    },
    {
      "cell_type": "code",
      "metadata": {
        "id": "LygG4ZudEFcC"
      },
      "source": [
        "# split the data into training set and test set in 4:1 ratio.\n",
        "from sklearn.model_selection import train_test_split\n",
        "x_train,x_test,y_train,y_test=train_test_split(x,y,test_size=0.2,random_state=1)"
      ],
      "execution_count": 43,
      "outputs": []
    },
    {
      "cell_type": "code",
      "metadata": {
        "id": "cxEjGcTCEh9s",
        "colab": {
          "base_uri": "https://localhost:8080/"
        },
        "outputId": "9f548790-7e53-4455-b600-b74eb28aada0"
      },
      "source": [
        "# Converting categorical columns into numerical using label encoding\n",
        "from sklearn.preprocessing import LabelEncoder\n",
        "le_GS=LabelEncoder()\n",
        "le_Price=LabelEncoder()\n",
        "x_train['GEO Summary']=le_GS.fit_transform(x_train.iloc[:,3])\n",
        "x_train['Price Category Code']=le_Price.fit_transform(x_train.iloc[:,5])\n",
        "x_test['GEO Summary']=le_GS.fit_transform(x_test.iloc[:,3])\n",
        "x_test['Price Category Code']=le_Price.fit_transform(x_test.iloc[:,5])"
      ],
      "execution_count": 44,
      "outputs": [
        {
          "output_type": "stream",
          "text": [
            "/usr/local/lib/python3.7/dist-packages/ipykernel_launcher.py:5: SettingWithCopyWarning: \n",
            "A value is trying to be set on a copy of a slice from a DataFrame.\n",
            "Try using .loc[row_indexer,col_indexer] = value instead\n",
            "\n",
            "See the caveats in the documentation: https://pandas.pydata.org/pandas-docs/stable/user_guide/indexing.html#returning-a-view-versus-a-copy\n",
            "  \"\"\"\n",
            "/usr/local/lib/python3.7/dist-packages/ipykernel_launcher.py:6: SettingWithCopyWarning: \n",
            "A value is trying to be set on a copy of a slice from a DataFrame.\n",
            "Try using .loc[row_indexer,col_indexer] = value instead\n",
            "\n",
            "See the caveats in the documentation: https://pandas.pydata.org/pandas-docs/stable/user_guide/indexing.html#returning-a-view-versus-a-copy\n",
            "  \n",
            "/usr/local/lib/python3.7/dist-packages/ipykernel_launcher.py:7: SettingWithCopyWarning: \n",
            "A value is trying to be set on a copy of a slice from a DataFrame.\n",
            "Try using .loc[row_indexer,col_indexer] = value instead\n",
            "\n",
            "See the caveats in the documentation: https://pandas.pydata.org/pandas-docs/stable/user_guide/indexing.html#returning-a-view-versus-a-copy\n",
            "  import sys\n",
            "/usr/local/lib/python3.7/dist-packages/ipykernel_launcher.py:8: SettingWithCopyWarning: \n",
            "A value is trying to be set on a copy of a slice from a DataFrame.\n",
            "Try using .loc[row_indexer,col_indexer] = value instead\n",
            "\n",
            "See the caveats in the documentation: https://pandas.pydata.org/pandas-docs/stable/user_guide/indexing.html#returning-a-view-versus-a-copy\n",
            "  \n"
          ],
          "name": "stderr"
        }
      ]
    },
    {
      "cell_type": "code",
      "metadata": {
        "colab": {
          "base_uri": "https://localhost:8080/",
          "height": 419
        },
        "id": "-AHZ-xCqldLX",
        "outputId": "4f512aac-10cb-4a30-f9ce-e069665ee2df"
      },
      "source": [
        "x_train"
      ],
      "execution_count": 45,
      "outputs": [
        {
          "output_type": "execute_result",
          "data": {
            "text/html": [
              "<div>\n",
              "<style scoped>\n",
              "    .dataframe tbody tr th:only-of-type {\n",
              "        vertical-align: middle;\n",
              "    }\n",
              "\n",
              "    .dataframe tbody tr th {\n",
              "        vertical-align: top;\n",
              "    }\n",
              "\n",
              "    .dataframe thead th {\n",
              "        text-align: right;\n",
              "    }\n",
              "</style>\n",
              "<table border=\"1\" class=\"dataframe\">\n",
              "  <thead>\n",
              "    <tr style=\"text-align: right;\">\n",
              "      <th></th>\n",
              "      <th>Activity Period</th>\n",
              "      <th>Operating Airline</th>\n",
              "      <th>Published Airline</th>\n",
              "      <th>GEO Summary</th>\n",
              "      <th>GEO Region</th>\n",
              "      <th>Price Category Code</th>\n",
              "      <th>Terminal</th>\n",
              "      <th>Boarding Area</th>\n",
              "      <th>Adjusted Activity Type Code</th>\n",
              "    </tr>\n",
              "  </thead>\n",
              "  <tbody>\n",
              "    <tr>\n",
              "      <th>13750</th>\n",
              "      <td>201505</td>\n",
              "      <td>United Airlines</td>\n",
              "      <td>United Airlines</td>\n",
              "      <td>0</td>\n",
              "      <td>US</td>\n",
              "      <td>1</td>\n",
              "      <td>Terminal 3</td>\n",
              "      <td>E</td>\n",
              "      <td>Deplaned</td>\n",
              "    </tr>\n",
              "    <tr>\n",
              "      <th>14344</th>\n",
              "      <td>201510</td>\n",
              "      <td>SkyWest Airlines</td>\n",
              "      <td>United Airlines</td>\n",
              "      <td>0</td>\n",
              "      <td>US</td>\n",
              "      <td>1</td>\n",
              "      <td>Terminal 3</td>\n",
              "      <td>F</td>\n",
              "      <td>Deplaned</td>\n",
              "    </tr>\n",
              "    <tr>\n",
              "      <th>8504</th>\n",
              "      <td>201108</td>\n",
              "      <td>Air Canada</td>\n",
              "      <td>Air Canada</td>\n",
              "      <td>1</td>\n",
              "      <td>Canada</td>\n",
              "      <td>1</td>\n",
              "      <td>International</td>\n",
              "      <td>G</td>\n",
              "      <td>Deplaned</td>\n",
              "    </tr>\n",
              "    <tr>\n",
              "      <th>2643</th>\n",
              "      <td>200706</td>\n",
              "      <td>Air China</td>\n",
              "      <td>Air China</td>\n",
              "      <td>1</td>\n",
              "      <td>Asia</td>\n",
              "      <td>1</td>\n",
              "      <td>International</td>\n",
              "      <td>G</td>\n",
              "      <td>Enplaned</td>\n",
              "    </tr>\n",
              "    <tr>\n",
              "      <th>8568</th>\n",
              "      <td>201108</td>\n",
              "      <td>SkyWest Airlines</td>\n",
              "      <td>United Airlines - Pre 07/01/2013</td>\n",
              "      <td>0</td>\n",
              "      <td>US</td>\n",
              "      <td>1</td>\n",
              "      <td>Terminal 3</td>\n",
              "      <td>F</td>\n",
              "      <td>Deplaned</td>\n",
              "    </tr>\n",
              "    <tr>\n",
              "      <th>...</th>\n",
              "      <td>...</td>\n",
              "      <td>...</td>\n",
              "      <td>...</td>\n",
              "      <td>...</td>\n",
              "      <td>...</td>\n",
              "      <td>...</td>\n",
              "      <td>...</td>\n",
              "      <td>...</td>\n",
              "      <td>...</td>\n",
              "    </tr>\n",
              "    <tr>\n",
              "      <th>905</th>\n",
              "      <td>200602</td>\n",
              "      <td>United Airlines - Pre 07/01/2013</td>\n",
              "      <td>United Airlines - Pre 07/01/2013</td>\n",
              "      <td>1</td>\n",
              "      <td>Asia</td>\n",
              "      <td>1</td>\n",
              "      <td>International</td>\n",
              "      <td>G</td>\n",
              "      <td>Thru / Transit * 2</td>\n",
              "    </tr>\n",
              "    <tr>\n",
              "      <th>5192</th>\n",
              "      <td>200903</td>\n",
              "      <td>Lufthansa German Airlines</td>\n",
              "      <td>Lufthansa German Airlines</td>\n",
              "      <td>1</td>\n",
              "      <td>Europe</td>\n",
              "      <td>1</td>\n",
              "      <td>International</td>\n",
              "      <td>G</td>\n",
              "      <td>Enplaned</td>\n",
              "    </tr>\n",
              "    <tr>\n",
              "      <th>12172</th>\n",
              "      <td>201404</td>\n",
              "      <td>Alaska Airlines</td>\n",
              "      <td>Alaska Airlines</td>\n",
              "      <td>0</td>\n",
              "      <td>US</td>\n",
              "      <td>1</td>\n",
              "      <td>Terminal 1</td>\n",
              "      <td>B</td>\n",
              "      <td>Enplaned</td>\n",
              "    </tr>\n",
              "    <tr>\n",
              "      <th>235</th>\n",
              "      <td>200509</td>\n",
              "      <td>ATA Airlines</td>\n",
              "      <td>ATA Airlines</td>\n",
              "      <td>0</td>\n",
              "      <td>US</td>\n",
              "      <td>0</td>\n",
              "      <td>Terminal 1</td>\n",
              "      <td>B</td>\n",
              "      <td>Thru / Transit * 2</td>\n",
              "    </tr>\n",
              "    <tr>\n",
              "      <th>13349</th>\n",
              "      <td>201502</td>\n",
              "      <td>Japan Airlines</td>\n",
              "      <td>Japan Airlines</td>\n",
              "      <td>1</td>\n",
              "      <td>Asia</td>\n",
              "      <td>1</td>\n",
              "      <td>International</td>\n",
              "      <td>A</td>\n",
              "      <td>Enplaned</td>\n",
              "    </tr>\n",
              "  </tbody>\n",
              "</table>\n",
              "<p>12005 rows × 9 columns</p>\n",
              "</div>"
            ],
            "text/plain": [
              "       Activity Period  ... Adjusted Activity Type Code\n",
              "13750           201505  ...                    Deplaned\n",
              "14344           201510  ...                    Deplaned\n",
              "8504            201108  ...                    Deplaned\n",
              "2643            200706  ...                    Enplaned\n",
              "8568            201108  ...                    Deplaned\n",
              "...                ...  ...                         ...\n",
              "905             200602  ...          Thru / Transit * 2\n",
              "5192            200903  ...                    Enplaned\n",
              "12172           201404  ...                    Enplaned\n",
              "235             200509  ...          Thru / Transit * 2\n",
              "13349           201502  ...                    Enplaned\n",
              "\n",
              "[12005 rows x 9 columns]"
            ]
          },
          "metadata": {
            "tags": []
          },
          "execution_count": 45
        }
      ]
    },
    {
      "cell_type": "code",
      "metadata": {
        "id": "-dUEOg9EEqta"
      },
      "source": [
        "# One Hot Encoding\n",
        "columns=['Operating Airline', 'Published Airline', 'GEO Region', 'Terminal','Boarding Area', 'Adjusted Activity Type Code']"
      ],
      "execution_count": 46,
      "outputs": []
    },
    {
      "cell_type": "code",
      "metadata": {
        "colab": {
          "base_uri": "https://localhost:8080/"
        },
        "id": "ndge7NGoEM01",
        "outputId": "bb6b0fe5-c340-4062-f6ee-de7a23e639b8"
      },
      "source": [
        "from sklearn.preprocessing import OneHotEncoder\n",
        "enc = OneHotEncoder(sparse=False)\n",
        "enc.fit(x_train[columns])"
      ],
      "execution_count": 47,
      "outputs": [
        {
          "output_type": "execute_result",
          "data": {
            "text/plain": [
              "OneHotEncoder(categories='auto', drop=None, dtype=<class 'numpy.float64'>,\n",
              "              handle_unknown='error', sparse=False)"
            ]
          },
          "metadata": {
            "tags": []
          },
          "execution_count": 47
        }
      ]
    },
    {
      "cell_type": "code",
      "metadata": {
        "colab": {
          "base_uri": "https://localhost:8080/"
        },
        "id": "WptVvTpTF_lp",
        "outputId": "d245603c-3c85-4037-bee5-a78c3e4a9838"
      },
      "source": [
        "a=enc.transform(x_train[columns])\n",
        "a"
      ],
      "execution_count": 48,
      "outputs": [
        {
          "output_type": "execute_result",
          "data": {
            "text/plain": [
              "array([[0., 0., 0., ..., 1., 0., 0.],\n",
              "       [0., 0., 0., ..., 1., 0., 0.],\n",
              "       [0., 0., 0., ..., 1., 0., 0.],\n",
              "       ...,\n",
              "       [0., 0., 0., ..., 0., 1., 0.],\n",
              "       [1., 0., 0., ..., 0., 0., 1.],\n",
              "       [0., 0., 0., ..., 0., 1., 0.]])"
            ]
          },
          "metadata": {
            "tags": []
          },
          "execution_count": 48
        }
      ]
    },
    {
      "cell_type": "code",
      "metadata": {
        "id": "n9fmhYkAGBRF"
      },
      "source": [
        "x_train=x_train.values"
      ],
      "execution_count": 49,
      "outputs": []
    },
    {
      "cell_type": "code",
      "metadata": {
        "colab": {
          "base_uri": "https://localhost:8080/"
        },
        "id": "_UnJClsn62D4",
        "outputId": "f1314aa9-662c-4485-f369-87db4708a14b"
      },
      "source": [
        "x_train"
      ],
      "execution_count": 50,
      "outputs": [
        {
          "output_type": "execute_result",
          "data": {
            "text/plain": [
              "array([[201505, 'United Airlines', 'United Airlines', ..., 'Terminal 3',\n",
              "        'E', 'Deplaned'],\n",
              "       [201510, 'SkyWest Airlines', 'United Airlines', ..., 'Terminal 3',\n",
              "        'F', 'Deplaned'],\n",
              "       [201108, 'Air Canada ', 'Air Canada ', ..., 'International', 'G',\n",
              "        'Deplaned'],\n",
              "       ...,\n",
              "       [201404, 'Alaska Airlines', 'Alaska Airlines', ..., 'Terminal 1',\n",
              "        'B', 'Enplaned'],\n",
              "       [200509, 'ATA Airlines', 'ATA Airlines', ..., 'Terminal 1', 'B',\n",
              "        'Thru / Transit * 2'],\n",
              "       [201502, 'Japan Airlines', 'Japan Airlines', ..., 'International',\n",
              "        'A', 'Enplaned']], dtype=object)"
            ]
          },
          "metadata": {
            "tags": []
          },
          "execution_count": 50
        }
      ]
    },
    {
      "cell_type": "code",
      "metadata": {
        "colab": {
          "base_uri": "https://localhost:8080/"
        },
        "id": "XRA4Oz1TqPUC",
        "outputId": "f3ddd43b-700a-4ea3-a2de-32547a425a4a"
      },
      "source": [
        "b=enc.transform(x_test[columns])\n",
        "b"
      ],
      "execution_count": 51,
      "outputs": [
        {
          "output_type": "execute_result",
          "data": {
            "text/plain": [
              "array([[0., 0., 0., ..., 1., 0., 0.],\n",
              "       [0., 0., 0., ..., 1., 0., 0.],\n",
              "       [0., 0., 0., ..., 0., 0., 1.],\n",
              "       ...,\n",
              "       [0., 0., 0., ..., 0., 0., 1.],\n",
              "       [0., 0., 0., ..., 0., 1., 0.],\n",
              "       [0., 0., 0., ..., 0., 1., 0.]])"
            ]
          },
          "metadata": {
            "tags": []
          },
          "execution_count": 51
        }
      ]
    },
    {
      "cell_type": "code",
      "metadata": {
        "id": "AIfiZ_ws4I5O"
      },
      "source": [
        "x_train=np.concatenate((x_train,a),1)"
      ],
      "execution_count": 52,
      "outputs": []
    },
    {
      "cell_type": "code",
      "metadata": {
        "colab": {
          "base_uri": "https://localhost:8080/"
        },
        "id": "EDQA2pufmETn",
        "outputId": "c08bad39-03ad-4e3b-cf09-3e73588e5688"
      },
      "source": [
        "x_train"
      ],
      "execution_count": 53,
      "outputs": [
        {
          "output_type": "execute_result",
          "data": {
            "text/plain": [
              "array([[201505, 'United Airlines', 'United Airlines', ..., 1.0, 0.0, 0.0],\n",
              "       [201510, 'SkyWest Airlines', 'United Airlines', ..., 1.0, 0.0,\n",
              "        0.0],\n",
              "       [201108, 'Air Canada ', 'Air Canada ', ..., 1.0, 0.0, 0.0],\n",
              "       ...,\n",
              "       [201404, 'Alaska Airlines', 'Alaska Airlines', ..., 0.0, 1.0, 0.0],\n",
              "       [200509, 'ATA Airlines', 'ATA Airlines', ..., 0.0, 0.0, 1.0],\n",
              "       [201502, 'Japan Airlines', 'Japan Airlines', ..., 0.0, 1.0, 0.0]],\n",
              "      dtype=object)"
            ]
          },
          "metadata": {
            "tags": []
          },
          "execution_count": 53
        }
      ]
    },
    {
      "cell_type": "code",
      "metadata": {
        "colab": {
          "base_uri": "https://localhost:8080/"
        },
        "id": "DSFLWYgP6b2w",
        "outputId": "e8030fc7-f483-4f96-bfd8-c336faf7cd4b"
      },
      "source": [
        "pd.DataFrame(x_train).isnull().sum()"
      ],
      "execution_count": 54,
      "outputs": [
        {
          "output_type": "execute_result",
          "data": {
            "text/plain": [
              "0      0\n",
              "1      0\n",
              "2      0\n",
              "3      0\n",
              "4      0\n",
              "      ..\n",
              "174    0\n",
              "175    0\n",
              "176    0\n",
              "177    0\n",
              "178    0\n",
              "Length: 179, dtype: int64"
            ]
          },
          "metadata": {
            "tags": []
          },
          "execution_count": 54
        }
      ]
    },
    {
      "cell_type": "code",
      "metadata": {
        "id": "pmITDU3Umv-3"
      },
      "source": [
        "x_test=np.concatenate((x_test,b),1)"
      ],
      "execution_count": 55,
      "outputs": []
    },
    {
      "cell_type": "code",
      "metadata": {
        "colab": {
          "base_uri": "https://localhost:8080/"
        },
        "id": "BQ6xPLqTm4ep",
        "outputId": "7c43da39-6a85-4029-e348-1a7d280261de"
      },
      "source": [
        "x_test"
      ],
      "execution_count": 56,
      "outputs": [
        {
          "output_type": "execute_result",
          "data": {
            "text/plain": [
              "array([[201311, 'Air France', 'Air France', ..., 1.0, 0.0, 0.0],\n",
              "       [201312, 'Air New Zealand', 'Air New Zealand', ..., 1.0, 0.0, 0.0],\n",
              "       [201206, 'United Airlines - Pre 07/01/2013',\n",
              "        'United Airlines - Pre 07/01/2013', ..., 0.0, 0.0, 1.0],\n",
              "       ...,\n",
              "       [201101, 'United Airlines - Pre 07/01/2013',\n",
              "        'United Airlines - Pre 07/01/2013', ..., 0.0, 0.0, 1.0],\n",
              "       [200802, 'Hawaiian Airlines', 'Hawaiian Airlines', ..., 0.0, 1.0,\n",
              "        0.0],\n",
              "       [201004, 'United Airlines - Pre 07/01/2013',\n",
              "        'United Airlines - Pre 07/01/2013', ..., 0.0, 1.0, 0.0]],\n",
              "      dtype=object)"
            ]
          },
          "metadata": {
            "tags": []
          },
          "execution_count": 56
        }
      ]
    },
    {
      "cell_type": "code",
      "metadata": {
        "id": "1crVYgiLrllf"
      },
      "source": [
        "x_train=pd.DataFrame(x_train)"
      ],
      "execution_count": 57,
      "outputs": []
    },
    {
      "cell_type": "code",
      "metadata": {
        "colab": {
          "base_uri": "https://localhost:8080/",
          "height": 677
        },
        "id": "TLn90eui7uDG",
        "outputId": "b29e08ff-9bac-479b-89d6-e06332f6a2e0"
      },
      "source": [
        "x_train"
      ],
      "execution_count": 58,
      "outputs": [
        {
          "output_type": "execute_result",
          "data": {
            "text/html": [
              "<div>\n",
              "<style scoped>\n",
              "    .dataframe tbody tr th:only-of-type {\n",
              "        vertical-align: middle;\n",
              "    }\n",
              "\n",
              "    .dataframe tbody tr th {\n",
              "        vertical-align: top;\n",
              "    }\n",
              "\n",
              "    .dataframe thead th {\n",
              "        text-align: right;\n",
              "    }\n",
              "</style>\n",
              "<table border=\"1\" class=\"dataframe\">\n",
              "  <thead>\n",
              "    <tr style=\"text-align: right;\">\n",
              "      <th></th>\n",
              "      <th>0</th>\n",
              "      <th>1</th>\n",
              "      <th>2</th>\n",
              "      <th>3</th>\n",
              "      <th>4</th>\n",
              "      <th>5</th>\n",
              "      <th>6</th>\n",
              "      <th>7</th>\n",
              "      <th>8</th>\n",
              "      <th>9</th>\n",
              "      <th>10</th>\n",
              "      <th>11</th>\n",
              "      <th>12</th>\n",
              "      <th>13</th>\n",
              "      <th>14</th>\n",
              "      <th>15</th>\n",
              "      <th>16</th>\n",
              "      <th>17</th>\n",
              "      <th>18</th>\n",
              "      <th>19</th>\n",
              "      <th>20</th>\n",
              "      <th>21</th>\n",
              "      <th>22</th>\n",
              "      <th>23</th>\n",
              "      <th>24</th>\n",
              "      <th>25</th>\n",
              "      <th>26</th>\n",
              "      <th>27</th>\n",
              "      <th>28</th>\n",
              "      <th>29</th>\n",
              "      <th>30</th>\n",
              "      <th>31</th>\n",
              "      <th>32</th>\n",
              "      <th>33</th>\n",
              "      <th>34</th>\n",
              "      <th>35</th>\n",
              "      <th>36</th>\n",
              "      <th>37</th>\n",
              "      <th>38</th>\n",
              "      <th>39</th>\n",
              "      <th>...</th>\n",
              "      <th>139</th>\n",
              "      <th>140</th>\n",
              "      <th>141</th>\n",
              "      <th>142</th>\n",
              "      <th>143</th>\n",
              "      <th>144</th>\n",
              "      <th>145</th>\n",
              "      <th>146</th>\n",
              "      <th>147</th>\n",
              "      <th>148</th>\n",
              "      <th>149</th>\n",
              "      <th>150</th>\n",
              "      <th>151</th>\n",
              "      <th>152</th>\n",
              "      <th>153</th>\n",
              "      <th>154</th>\n",
              "      <th>155</th>\n",
              "      <th>156</th>\n",
              "      <th>157</th>\n",
              "      <th>158</th>\n",
              "      <th>159</th>\n",
              "      <th>160</th>\n",
              "      <th>161</th>\n",
              "      <th>162</th>\n",
              "      <th>163</th>\n",
              "      <th>164</th>\n",
              "      <th>165</th>\n",
              "      <th>166</th>\n",
              "      <th>167</th>\n",
              "      <th>168</th>\n",
              "      <th>169</th>\n",
              "      <th>170</th>\n",
              "      <th>171</th>\n",
              "      <th>172</th>\n",
              "      <th>173</th>\n",
              "      <th>174</th>\n",
              "      <th>175</th>\n",
              "      <th>176</th>\n",
              "      <th>177</th>\n",
              "      <th>178</th>\n",
              "    </tr>\n",
              "  </thead>\n",
              "  <tbody>\n",
              "    <tr>\n",
              "      <th>0</th>\n",
              "      <td>201505</td>\n",
              "      <td>United Airlines</td>\n",
              "      <td>United Airlines</td>\n",
              "      <td>0</td>\n",
              "      <td>US</td>\n",
              "      <td>1</td>\n",
              "      <td>Terminal 3</td>\n",
              "      <td>E</td>\n",
              "      <td>Deplaned</td>\n",
              "      <td>0</td>\n",
              "      <td>0</td>\n",
              "      <td>0</td>\n",
              "      <td>0</td>\n",
              "      <td>0</td>\n",
              "      <td>0</td>\n",
              "      <td>0</td>\n",
              "      <td>0</td>\n",
              "      <td>0</td>\n",
              "      <td>0</td>\n",
              "      <td>0</td>\n",
              "      <td>0</td>\n",
              "      <td>0</td>\n",
              "      <td>0</td>\n",
              "      <td>0</td>\n",
              "      <td>0</td>\n",
              "      <td>0</td>\n",
              "      <td>0</td>\n",
              "      <td>0</td>\n",
              "      <td>0</td>\n",
              "      <td>0</td>\n",
              "      <td>0</td>\n",
              "      <td>0</td>\n",
              "      <td>0</td>\n",
              "      <td>0</td>\n",
              "      <td>0</td>\n",
              "      <td>0</td>\n",
              "      <td>0</td>\n",
              "      <td>0</td>\n",
              "      <td>0</td>\n",
              "      <td>0</td>\n",
              "      <td>...</td>\n",
              "      <td>0</td>\n",
              "      <td>0</td>\n",
              "      <td>0</td>\n",
              "      <td>0</td>\n",
              "      <td>0</td>\n",
              "      <td>0</td>\n",
              "      <td>0</td>\n",
              "      <td>1</td>\n",
              "      <td>0</td>\n",
              "      <td>0</td>\n",
              "      <td>0</td>\n",
              "      <td>0</td>\n",
              "      <td>0</td>\n",
              "      <td>0</td>\n",
              "      <td>0</td>\n",
              "      <td>0</td>\n",
              "      <td>0</td>\n",
              "      <td>0</td>\n",
              "      <td>0</td>\n",
              "      <td>0</td>\n",
              "      <td>0</td>\n",
              "      <td>0</td>\n",
              "      <td>0</td>\n",
              "      <td>1</td>\n",
              "      <td>0</td>\n",
              "      <td>0</td>\n",
              "      <td>0</td>\n",
              "      <td>0</td>\n",
              "      <td>1</td>\n",
              "      <td>0</td>\n",
              "      <td>0</td>\n",
              "      <td>0</td>\n",
              "      <td>0</td>\n",
              "      <td>1</td>\n",
              "      <td>0</td>\n",
              "      <td>0</td>\n",
              "      <td>0</td>\n",
              "      <td>1</td>\n",
              "      <td>0</td>\n",
              "      <td>0</td>\n",
              "    </tr>\n",
              "    <tr>\n",
              "      <th>1</th>\n",
              "      <td>201510</td>\n",
              "      <td>SkyWest Airlines</td>\n",
              "      <td>United Airlines</td>\n",
              "      <td>0</td>\n",
              "      <td>US</td>\n",
              "      <td>1</td>\n",
              "      <td>Terminal 3</td>\n",
              "      <td>F</td>\n",
              "      <td>Deplaned</td>\n",
              "      <td>0</td>\n",
              "      <td>0</td>\n",
              "      <td>0</td>\n",
              "      <td>0</td>\n",
              "      <td>0</td>\n",
              "      <td>0</td>\n",
              "      <td>0</td>\n",
              "      <td>0</td>\n",
              "      <td>0</td>\n",
              "      <td>0</td>\n",
              "      <td>0</td>\n",
              "      <td>0</td>\n",
              "      <td>0</td>\n",
              "      <td>0</td>\n",
              "      <td>0</td>\n",
              "      <td>0</td>\n",
              "      <td>0</td>\n",
              "      <td>0</td>\n",
              "      <td>0</td>\n",
              "      <td>0</td>\n",
              "      <td>0</td>\n",
              "      <td>0</td>\n",
              "      <td>0</td>\n",
              "      <td>0</td>\n",
              "      <td>0</td>\n",
              "      <td>0</td>\n",
              "      <td>0</td>\n",
              "      <td>0</td>\n",
              "      <td>0</td>\n",
              "      <td>0</td>\n",
              "      <td>0</td>\n",
              "      <td>...</td>\n",
              "      <td>0</td>\n",
              "      <td>0</td>\n",
              "      <td>0</td>\n",
              "      <td>0</td>\n",
              "      <td>0</td>\n",
              "      <td>0</td>\n",
              "      <td>0</td>\n",
              "      <td>1</td>\n",
              "      <td>0</td>\n",
              "      <td>0</td>\n",
              "      <td>0</td>\n",
              "      <td>0</td>\n",
              "      <td>0</td>\n",
              "      <td>0</td>\n",
              "      <td>0</td>\n",
              "      <td>0</td>\n",
              "      <td>0</td>\n",
              "      <td>0</td>\n",
              "      <td>0</td>\n",
              "      <td>0</td>\n",
              "      <td>0</td>\n",
              "      <td>0</td>\n",
              "      <td>0</td>\n",
              "      <td>1</td>\n",
              "      <td>0</td>\n",
              "      <td>0</td>\n",
              "      <td>0</td>\n",
              "      <td>0</td>\n",
              "      <td>1</td>\n",
              "      <td>0</td>\n",
              "      <td>0</td>\n",
              "      <td>0</td>\n",
              "      <td>0</td>\n",
              "      <td>0</td>\n",
              "      <td>1</td>\n",
              "      <td>0</td>\n",
              "      <td>0</td>\n",
              "      <td>1</td>\n",
              "      <td>0</td>\n",
              "      <td>0</td>\n",
              "    </tr>\n",
              "    <tr>\n",
              "      <th>2</th>\n",
              "      <td>201108</td>\n",
              "      <td>Air Canada</td>\n",
              "      <td>Air Canada</td>\n",
              "      <td>1</td>\n",
              "      <td>Canada</td>\n",
              "      <td>1</td>\n",
              "      <td>International</td>\n",
              "      <td>G</td>\n",
              "      <td>Deplaned</td>\n",
              "      <td>0</td>\n",
              "      <td>0</td>\n",
              "      <td>0</td>\n",
              "      <td>0</td>\n",
              "      <td>1</td>\n",
              "      <td>0</td>\n",
              "      <td>0</td>\n",
              "      <td>0</td>\n",
              "      <td>0</td>\n",
              "      <td>0</td>\n",
              "      <td>0</td>\n",
              "      <td>0</td>\n",
              "      <td>0</td>\n",
              "      <td>0</td>\n",
              "      <td>0</td>\n",
              "      <td>0</td>\n",
              "      <td>0</td>\n",
              "      <td>0</td>\n",
              "      <td>0</td>\n",
              "      <td>0</td>\n",
              "      <td>0</td>\n",
              "      <td>0</td>\n",
              "      <td>0</td>\n",
              "      <td>0</td>\n",
              "      <td>0</td>\n",
              "      <td>0</td>\n",
              "      <td>0</td>\n",
              "      <td>0</td>\n",
              "      <td>0</td>\n",
              "      <td>0</td>\n",
              "      <td>0</td>\n",
              "      <td>...</td>\n",
              "      <td>0</td>\n",
              "      <td>0</td>\n",
              "      <td>0</td>\n",
              "      <td>0</td>\n",
              "      <td>0</td>\n",
              "      <td>0</td>\n",
              "      <td>0</td>\n",
              "      <td>0</td>\n",
              "      <td>0</td>\n",
              "      <td>0</td>\n",
              "      <td>0</td>\n",
              "      <td>0</td>\n",
              "      <td>0</td>\n",
              "      <td>0</td>\n",
              "      <td>0</td>\n",
              "      <td>0</td>\n",
              "      <td>0</td>\n",
              "      <td>1</td>\n",
              "      <td>0</td>\n",
              "      <td>0</td>\n",
              "      <td>0</td>\n",
              "      <td>0</td>\n",
              "      <td>0</td>\n",
              "      <td>0</td>\n",
              "      <td>1</td>\n",
              "      <td>0</td>\n",
              "      <td>0</td>\n",
              "      <td>0</td>\n",
              "      <td>0</td>\n",
              "      <td>0</td>\n",
              "      <td>0</td>\n",
              "      <td>0</td>\n",
              "      <td>0</td>\n",
              "      <td>0</td>\n",
              "      <td>0</td>\n",
              "      <td>1</td>\n",
              "      <td>0</td>\n",
              "      <td>1</td>\n",
              "      <td>0</td>\n",
              "      <td>0</td>\n",
              "    </tr>\n",
              "    <tr>\n",
              "      <th>3</th>\n",
              "      <td>200706</td>\n",
              "      <td>Air China</td>\n",
              "      <td>Air China</td>\n",
              "      <td>1</td>\n",
              "      <td>Asia</td>\n",
              "      <td>1</td>\n",
              "      <td>International</td>\n",
              "      <td>G</td>\n",
              "      <td>Enplaned</td>\n",
              "      <td>0</td>\n",
              "      <td>0</td>\n",
              "      <td>0</td>\n",
              "      <td>0</td>\n",
              "      <td>0</td>\n",
              "      <td>0</td>\n",
              "      <td>1</td>\n",
              "      <td>0</td>\n",
              "      <td>0</td>\n",
              "      <td>0</td>\n",
              "      <td>0</td>\n",
              "      <td>0</td>\n",
              "      <td>0</td>\n",
              "      <td>0</td>\n",
              "      <td>0</td>\n",
              "      <td>0</td>\n",
              "      <td>0</td>\n",
              "      <td>0</td>\n",
              "      <td>0</td>\n",
              "      <td>0</td>\n",
              "      <td>0</td>\n",
              "      <td>0</td>\n",
              "      <td>0</td>\n",
              "      <td>0</td>\n",
              "      <td>0</td>\n",
              "      <td>0</td>\n",
              "      <td>0</td>\n",
              "      <td>0</td>\n",
              "      <td>0</td>\n",
              "      <td>0</td>\n",
              "      <td>0</td>\n",
              "      <td>...</td>\n",
              "      <td>0</td>\n",
              "      <td>0</td>\n",
              "      <td>0</td>\n",
              "      <td>0</td>\n",
              "      <td>0</td>\n",
              "      <td>0</td>\n",
              "      <td>0</td>\n",
              "      <td>0</td>\n",
              "      <td>0</td>\n",
              "      <td>0</td>\n",
              "      <td>0</td>\n",
              "      <td>0</td>\n",
              "      <td>0</td>\n",
              "      <td>0</td>\n",
              "      <td>0</td>\n",
              "      <td>1</td>\n",
              "      <td>0</td>\n",
              "      <td>0</td>\n",
              "      <td>0</td>\n",
              "      <td>0</td>\n",
              "      <td>0</td>\n",
              "      <td>0</td>\n",
              "      <td>0</td>\n",
              "      <td>0</td>\n",
              "      <td>1</td>\n",
              "      <td>0</td>\n",
              "      <td>0</td>\n",
              "      <td>0</td>\n",
              "      <td>0</td>\n",
              "      <td>0</td>\n",
              "      <td>0</td>\n",
              "      <td>0</td>\n",
              "      <td>0</td>\n",
              "      <td>0</td>\n",
              "      <td>0</td>\n",
              "      <td>1</td>\n",
              "      <td>0</td>\n",
              "      <td>0</td>\n",
              "      <td>1</td>\n",
              "      <td>0</td>\n",
              "    </tr>\n",
              "    <tr>\n",
              "      <th>4</th>\n",
              "      <td>201108</td>\n",
              "      <td>SkyWest Airlines</td>\n",
              "      <td>United Airlines - Pre 07/01/2013</td>\n",
              "      <td>0</td>\n",
              "      <td>US</td>\n",
              "      <td>1</td>\n",
              "      <td>Terminal 3</td>\n",
              "      <td>F</td>\n",
              "      <td>Deplaned</td>\n",
              "      <td>0</td>\n",
              "      <td>0</td>\n",
              "      <td>0</td>\n",
              "      <td>0</td>\n",
              "      <td>0</td>\n",
              "      <td>0</td>\n",
              "      <td>0</td>\n",
              "      <td>0</td>\n",
              "      <td>0</td>\n",
              "      <td>0</td>\n",
              "      <td>0</td>\n",
              "      <td>0</td>\n",
              "      <td>0</td>\n",
              "      <td>0</td>\n",
              "      <td>0</td>\n",
              "      <td>0</td>\n",
              "      <td>0</td>\n",
              "      <td>0</td>\n",
              "      <td>0</td>\n",
              "      <td>0</td>\n",
              "      <td>0</td>\n",
              "      <td>0</td>\n",
              "      <td>0</td>\n",
              "      <td>0</td>\n",
              "      <td>0</td>\n",
              "      <td>0</td>\n",
              "      <td>0</td>\n",
              "      <td>0</td>\n",
              "      <td>0</td>\n",
              "      <td>0</td>\n",
              "      <td>0</td>\n",
              "      <td>...</td>\n",
              "      <td>0</td>\n",
              "      <td>0</td>\n",
              "      <td>0</td>\n",
              "      <td>0</td>\n",
              "      <td>0</td>\n",
              "      <td>0</td>\n",
              "      <td>0</td>\n",
              "      <td>0</td>\n",
              "      <td>1</td>\n",
              "      <td>0</td>\n",
              "      <td>0</td>\n",
              "      <td>0</td>\n",
              "      <td>0</td>\n",
              "      <td>0</td>\n",
              "      <td>0</td>\n",
              "      <td>0</td>\n",
              "      <td>0</td>\n",
              "      <td>0</td>\n",
              "      <td>0</td>\n",
              "      <td>0</td>\n",
              "      <td>0</td>\n",
              "      <td>0</td>\n",
              "      <td>0</td>\n",
              "      <td>1</td>\n",
              "      <td>0</td>\n",
              "      <td>0</td>\n",
              "      <td>0</td>\n",
              "      <td>0</td>\n",
              "      <td>1</td>\n",
              "      <td>0</td>\n",
              "      <td>0</td>\n",
              "      <td>0</td>\n",
              "      <td>0</td>\n",
              "      <td>0</td>\n",
              "      <td>1</td>\n",
              "      <td>0</td>\n",
              "      <td>0</td>\n",
              "      <td>1</td>\n",
              "      <td>0</td>\n",
              "      <td>0</td>\n",
              "    </tr>\n",
              "    <tr>\n",
              "      <th>...</th>\n",
              "      <td>...</td>\n",
              "      <td>...</td>\n",
              "      <td>...</td>\n",
              "      <td>...</td>\n",
              "      <td>...</td>\n",
              "      <td>...</td>\n",
              "      <td>...</td>\n",
              "      <td>...</td>\n",
              "      <td>...</td>\n",
              "      <td>...</td>\n",
              "      <td>...</td>\n",
              "      <td>...</td>\n",
              "      <td>...</td>\n",
              "      <td>...</td>\n",
              "      <td>...</td>\n",
              "      <td>...</td>\n",
              "      <td>...</td>\n",
              "      <td>...</td>\n",
              "      <td>...</td>\n",
              "      <td>...</td>\n",
              "      <td>...</td>\n",
              "      <td>...</td>\n",
              "      <td>...</td>\n",
              "      <td>...</td>\n",
              "      <td>...</td>\n",
              "      <td>...</td>\n",
              "      <td>...</td>\n",
              "      <td>...</td>\n",
              "      <td>...</td>\n",
              "      <td>...</td>\n",
              "      <td>...</td>\n",
              "      <td>...</td>\n",
              "      <td>...</td>\n",
              "      <td>...</td>\n",
              "      <td>...</td>\n",
              "      <td>...</td>\n",
              "      <td>...</td>\n",
              "      <td>...</td>\n",
              "      <td>...</td>\n",
              "      <td>...</td>\n",
              "      <td>...</td>\n",
              "      <td>...</td>\n",
              "      <td>...</td>\n",
              "      <td>...</td>\n",
              "      <td>...</td>\n",
              "      <td>...</td>\n",
              "      <td>...</td>\n",
              "      <td>...</td>\n",
              "      <td>...</td>\n",
              "      <td>...</td>\n",
              "      <td>...</td>\n",
              "      <td>...</td>\n",
              "      <td>...</td>\n",
              "      <td>...</td>\n",
              "      <td>...</td>\n",
              "      <td>...</td>\n",
              "      <td>...</td>\n",
              "      <td>...</td>\n",
              "      <td>...</td>\n",
              "      <td>...</td>\n",
              "      <td>...</td>\n",
              "      <td>...</td>\n",
              "      <td>...</td>\n",
              "      <td>...</td>\n",
              "      <td>...</td>\n",
              "      <td>...</td>\n",
              "      <td>...</td>\n",
              "      <td>...</td>\n",
              "      <td>...</td>\n",
              "      <td>...</td>\n",
              "      <td>...</td>\n",
              "      <td>...</td>\n",
              "      <td>...</td>\n",
              "      <td>...</td>\n",
              "      <td>...</td>\n",
              "      <td>...</td>\n",
              "      <td>...</td>\n",
              "      <td>...</td>\n",
              "      <td>...</td>\n",
              "      <td>...</td>\n",
              "      <td>...</td>\n",
              "    </tr>\n",
              "    <tr>\n",
              "      <th>12000</th>\n",
              "      <td>200602</td>\n",
              "      <td>United Airlines - Pre 07/01/2013</td>\n",
              "      <td>United Airlines - Pre 07/01/2013</td>\n",
              "      <td>1</td>\n",
              "      <td>Asia</td>\n",
              "      <td>1</td>\n",
              "      <td>International</td>\n",
              "      <td>G</td>\n",
              "      <td>Thru / Transit * 2</td>\n",
              "      <td>0</td>\n",
              "      <td>0</td>\n",
              "      <td>0</td>\n",
              "      <td>0</td>\n",
              "      <td>0</td>\n",
              "      <td>0</td>\n",
              "      <td>0</td>\n",
              "      <td>0</td>\n",
              "      <td>0</td>\n",
              "      <td>0</td>\n",
              "      <td>0</td>\n",
              "      <td>0</td>\n",
              "      <td>0</td>\n",
              "      <td>0</td>\n",
              "      <td>0</td>\n",
              "      <td>0</td>\n",
              "      <td>0</td>\n",
              "      <td>0</td>\n",
              "      <td>0</td>\n",
              "      <td>0</td>\n",
              "      <td>0</td>\n",
              "      <td>0</td>\n",
              "      <td>0</td>\n",
              "      <td>0</td>\n",
              "      <td>0</td>\n",
              "      <td>0</td>\n",
              "      <td>0</td>\n",
              "      <td>0</td>\n",
              "      <td>0</td>\n",
              "      <td>0</td>\n",
              "      <td>0</td>\n",
              "      <td>...</td>\n",
              "      <td>0</td>\n",
              "      <td>0</td>\n",
              "      <td>0</td>\n",
              "      <td>0</td>\n",
              "      <td>0</td>\n",
              "      <td>0</td>\n",
              "      <td>0</td>\n",
              "      <td>0</td>\n",
              "      <td>1</td>\n",
              "      <td>0</td>\n",
              "      <td>0</td>\n",
              "      <td>0</td>\n",
              "      <td>0</td>\n",
              "      <td>0</td>\n",
              "      <td>0</td>\n",
              "      <td>1</td>\n",
              "      <td>0</td>\n",
              "      <td>0</td>\n",
              "      <td>0</td>\n",
              "      <td>0</td>\n",
              "      <td>0</td>\n",
              "      <td>0</td>\n",
              "      <td>0</td>\n",
              "      <td>0</td>\n",
              "      <td>1</td>\n",
              "      <td>0</td>\n",
              "      <td>0</td>\n",
              "      <td>0</td>\n",
              "      <td>0</td>\n",
              "      <td>0</td>\n",
              "      <td>0</td>\n",
              "      <td>0</td>\n",
              "      <td>0</td>\n",
              "      <td>0</td>\n",
              "      <td>0</td>\n",
              "      <td>1</td>\n",
              "      <td>0</td>\n",
              "      <td>0</td>\n",
              "      <td>0</td>\n",
              "      <td>1</td>\n",
              "    </tr>\n",
              "    <tr>\n",
              "      <th>12001</th>\n",
              "      <td>200903</td>\n",
              "      <td>Lufthansa German Airlines</td>\n",
              "      <td>Lufthansa German Airlines</td>\n",
              "      <td>1</td>\n",
              "      <td>Europe</td>\n",
              "      <td>1</td>\n",
              "      <td>International</td>\n",
              "      <td>G</td>\n",
              "      <td>Enplaned</td>\n",
              "      <td>0</td>\n",
              "      <td>0</td>\n",
              "      <td>0</td>\n",
              "      <td>0</td>\n",
              "      <td>0</td>\n",
              "      <td>0</td>\n",
              "      <td>0</td>\n",
              "      <td>0</td>\n",
              "      <td>0</td>\n",
              "      <td>0</td>\n",
              "      <td>0</td>\n",
              "      <td>0</td>\n",
              "      <td>0</td>\n",
              "      <td>0</td>\n",
              "      <td>0</td>\n",
              "      <td>0</td>\n",
              "      <td>0</td>\n",
              "      <td>0</td>\n",
              "      <td>0</td>\n",
              "      <td>0</td>\n",
              "      <td>0</td>\n",
              "      <td>0</td>\n",
              "      <td>0</td>\n",
              "      <td>0</td>\n",
              "      <td>0</td>\n",
              "      <td>0</td>\n",
              "      <td>0</td>\n",
              "      <td>0</td>\n",
              "      <td>0</td>\n",
              "      <td>0</td>\n",
              "      <td>0</td>\n",
              "      <td>...</td>\n",
              "      <td>0</td>\n",
              "      <td>0</td>\n",
              "      <td>0</td>\n",
              "      <td>0</td>\n",
              "      <td>0</td>\n",
              "      <td>0</td>\n",
              "      <td>0</td>\n",
              "      <td>0</td>\n",
              "      <td>0</td>\n",
              "      <td>0</td>\n",
              "      <td>0</td>\n",
              "      <td>0</td>\n",
              "      <td>0</td>\n",
              "      <td>0</td>\n",
              "      <td>0</td>\n",
              "      <td>0</td>\n",
              "      <td>0</td>\n",
              "      <td>0</td>\n",
              "      <td>0</td>\n",
              "      <td>1</td>\n",
              "      <td>0</td>\n",
              "      <td>0</td>\n",
              "      <td>0</td>\n",
              "      <td>0</td>\n",
              "      <td>1</td>\n",
              "      <td>0</td>\n",
              "      <td>0</td>\n",
              "      <td>0</td>\n",
              "      <td>0</td>\n",
              "      <td>0</td>\n",
              "      <td>0</td>\n",
              "      <td>0</td>\n",
              "      <td>0</td>\n",
              "      <td>0</td>\n",
              "      <td>0</td>\n",
              "      <td>1</td>\n",
              "      <td>0</td>\n",
              "      <td>0</td>\n",
              "      <td>1</td>\n",
              "      <td>0</td>\n",
              "    </tr>\n",
              "    <tr>\n",
              "      <th>12002</th>\n",
              "      <td>201404</td>\n",
              "      <td>Alaska Airlines</td>\n",
              "      <td>Alaska Airlines</td>\n",
              "      <td>0</td>\n",
              "      <td>US</td>\n",
              "      <td>1</td>\n",
              "      <td>Terminal 1</td>\n",
              "      <td>B</td>\n",
              "      <td>Enplaned</td>\n",
              "      <td>0</td>\n",
              "      <td>0</td>\n",
              "      <td>0</td>\n",
              "      <td>0</td>\n",
              "      <td>0</td>\n",
              "      <td>0</td>\n",
              "      <td>0</td>\n",
              "      <td>0</td>\n",
              "      <td>0</td>\n",
              "      <td>0</td>\n",
              "      <td>0</td>\n",
              "      <td>1</td>\n",
              "      <td>0</td>\n",
              "      <td>0</td>\n",
              "      <td>0</td>\n",
              "      <td>0</td>\n",
              "      <td>0</td>\n",
              "      <td>0</td>\n",
              "      <td>0</td>\n",
              "      <td>0</td>\n",
              "      <td>0</td>\n",
              "      <td>0</td>\n",
              "      <td>0</td>\n",
              "      <td>0</td>\n",
              "      <td>0</td>\n",
              "      <td>0</td>\n",
              "      <td>0</td>\n",
              "      <td>0</td>\n",
              "      <td>0</td>\n",
              "      <td>0</td>\n",
              "      <td>0</td>\n",
              "      <td>...</td>\n",
              "      <td>0</td>\n",
              "      <td>0</td>\n",
              "      <td>0</td>\n",
              "      <td>0</td>\n",
              "      <td>0</td>\n",
              "      <td>0</td>\n",
              "      <td>0</td>\n",
              "      <td>0</td>\n",
              "      <td>0</td>\n",
              "      <td>0</td>\n",
              "      <td>0</td>\n",
              "      <td>0</td>\n",
              "      <td>0</td>\n",
              "      <td>0</td>\n",
              "      <td>0</td>\n",
              "      <td>0</td>\n",
              "      <td>0</td>\n",
              "      <td>0</td>\n",
              "      <td>0</td>\n",
              "      <td>0</td>\n",
              "      <td>0</td>\n",
              "      <td>0</td>\n",
              "      <td>0</td>\n",
              "      <td>1</td>\n",
              "      <td>0</td>\n",
              "      <td>0</td>\n",
              "      <td>1</td>\n",
              "      <td>0</td>\n",
              "      <td>0</td>\n",
              "      <td>0</td>\n",
              "      <td>1</td>\n",
              "      <td>0</td>\n",
              "      <td>0</td>\n",
              "      <td>0</td>\n",
              "      <td>0</td>\n",
              "      <td>0</td>\n",
              "      <td>0</td>\n",
              "      <td>0</td>\n",
              "      <td>1</td>\n",
              "      <td>0</td>\n",
              "    </tr>\n",
              "    <tr>\n",
              "      <th>12003</th>\n",
              "      <td>200509</td>\n",
              "      <td>ATA Airlines</td>\n",
              "      <td>ATA Airlines</td>\n",
              "      <td>0</td>\n",
              "      <td>US</td>\n",
              "      <td>0</td>\n",
              "      <td>Terminal 1</td>\n",
              "      <td>B</td>\n",
              "      <td>Thru / Transit * 2</td>\n",
              "      <td>1</td>\n",
              "      <td>0</td>\n",
              "      <td>0</td>\n",
              "      <td>0</td>\n",
              "      <td>0</td>\n",
              "      <td>0</td>\n",
              "      <td>0</td>\n",
              "      <td>0</td>\n",
              "      <td>0</td>\n",
              "      <td>0</td>\n",
              "      <td>0</td>\n",
              "      <td>0</td>\n",
              "      <td>0</td>\n",
              "      <td>0</td>\n",
              "      <td>0</td>\n",
              "      <td>0</td>\n",
              "      <td>0</td>\n",
              "      <td>0</td>\n",
              "      <td>0</td>\n",
              "      <td>0</td>\n",
              "      <td>0</td>\n",
              "      <td>0</td>\n",
              "      <td>0</td>\n",
              "      <td>0</td>\n",
              "      <td>0</td>\n",
              "      <td>0</td>\n",
              "      <td>0</td>\n",
              "      <td>0</td>\n",
              "      <td>0</td>\n",
              "      <td>0</td>\n",
              "      <td>0</td>\n",
              "      <td>...</td>\n",
              "      <td>0</td>\n",
              "      <td>0</td>\n",
              "      <td>0</td>\n",
              "      <td>0</td>\n",
              "      <td>0</td>\n",
              "      <td>0</td>\n",
              "      <td>0</td>\n",
              "      <td>0</td>\n",
              "      <td>0</td>\n",
              "      <td>0</td>\n",
              "      <td>0</td>\n",
              "      <td>0</td>\n",
              "      <td>0</td>\n",
              "      <td>0</td>\n",
              "      <td>0</td>\n",
              "      <td>0</td>\n",
              "      <td>0</td>\n",
              "      <td>0</td>\n",
              "      <td>0</td>\n",
              "      <td>0</td>\n",
              "      <td>0</td>\n",
              "      <td>0</td>\n",
              "      <td>0</td>\n",
              "      <td>1</td>\n",
              "      <td>0</td>\n",
              "      <td>0</td>\n",
              "      <td>1</td>\n",
              "      <td>0</td>\n",
              "      <td>0</td>\n",
              "      <td>0</td>\n",
              "      <td>1</td>\n",
              "      <td>0</td>\n",
              "      <td>0</td>\n",
              "      <td>0</td>\n",
              "      <td>0</td>\n",
              "      <td>0</td>\n",
              "      <td>0</td>\n",
              "      <td>0</td>\n",
              "      <td>0</td>\n",
              "      <td>1</td>\n",
              "    </tr>\n",
              "    <tr>\n",
              "      <th>12004</th>\n",
              "      <td>201502</td>\n",
              "      <td>Japan Airlines</td>\n",
              "      <td>Japan Airlines</td>\n",
              "      <td>1</td>\n",
              "      <td>Asia</td>\n",
              "      <td>1</td>\n",
              "      <td>International</td>\n",
              "      <td>A</td>\n",
              "      <td>Enplaned</td>\n",
              "      <td>0</td>\n",
              "      <td>0</td>\n",
              "      <td>0</td>\n",
              "      <td>0</td>\n",
              "      <td>0</td>\n",
              "      <td>0</td>\n",
              "      <td>0</td>\n",
              "      <td>0</td>\n",
              "      <td>0</td>\n",
              "      <td>0</td>\n",
              "      <td>0</td>\n",
              "      <td>0</td>\n",
              "      <td>0</td>\n",
              "      <td>0</td>\n",
              "      <td>0</td>\n",
              "      <td>0</td>\n",
              "      <td>0</td>\n",
              "      <td>0</td>\n",
              "      <td>0</td>\n",
              "      <td>0</td>\n",
              "      <td>0</td>\n",
              "      <td>0</td>\n",
              "      <td>0</td>\n",
              "      <td>0</td>\n",
              "      <td>0</td>\n",
              "      <td>0</td>\n",
              "      <td>0</td>\n",
              "      <td>0</td>\n",
              "      <td>0</td>\n",
              "      <td>0</td>\n",
              "      <td>0</td>\n",
              "      <td>...</td>\n",
              "      <td>0</td>\n",
              "      <td>0</td>\n",
              "      <td>0</td>\n",
              "      <td>0</td>\n",
              "      <td>0</td>\n",
              "      <td>0</td>\n",
              "      <td>0</td>\n",
              "      <td>0</td>\n",
              "      <td>0</td>\n",
              "      <td>0</td>\n",
              "      <td>0</td>\n",
              "      <td>0</td>\n",
              "      <td>0</td>\n",
              "      <td>0</td>\n",
              "      <td>0</td>\n",
              "      <td>1</td>\n",
              "      <td>0</td>\n",
              "      <td>0</td>\n",
              "      <td>0</td>\n",
              "      <td>0</td>\n",
              "      <td>0</td>\n",
              "      <td>0</td>\n",
              "      <td>0</td>\n",
              "      <td>0</td>\n",
              "      <td>1</td>\n",
              "      <td>0</td>\n",
              "      <td>0</td>\n",
              "      <td>0</td>\n",
              "      <td>0</td>\n",
              "      <td>1</td>\n",
              "      <td>0</td>\n",
              "      <td>0</td>\n",
              "      <td>0</td>\n",
              "      <td>0</td>\n",
              "      <td>0</td>\n",
              "      <td>0</td>\n",
              "      <td>0</td>\n",
              "      <td>0</td>\n",
              "      <td>1</td>\n",
              "      <td>0</td>\n",
              "    </tr>\n",
              "  </tbody>\n",
              "</table>\n",
              "<p>12005 rows × 179 columns</p>\n",
              "</div>"
            ],
            "text/plain": [
              "          0                                 1    ... 177 178\n",
              "0      201505                   United Airlines  ...   0   0\n",
              "1      201510                  SkyWest Airlines  ...   0   0\n",
              "2      201108                       Air Canada   ...   0   0\n",
              "3      200706                         Air China  ...   1   0\n",
              "4      201108                  SkyWest Airlines  ...   0   0\n",
              "...       ...                               ...  ...  ..  ..\n",
              "12000  200602  United Airlines - Pre 07/01/2013  ...   0   1\n",
              "12001  200903         Lufthansa German Airlines  ...   1   0\n",
              "12002  201404                   Alaska Airlines  ...   1   0\n",
              "12003  200509                      ATA Airlines  ...   0   1\n",
              "12004  201502                    Japan Airlines  ...   1   0\n",
              "\n",
              "[12005 rows x 179 columns]"
            ]
          },
          "metadata": {
            "tags": []
          },
          "execution_count": 58
        }
      ]
    },
    {
      "cell_type": "code",
      "metadata": {
        "id": "t3XrZMLE8LfN"
      },
      "source": [
        "x_train=x_train.drop(columns=[1,2,4,6,7,8],axis=1)"
      ],
      "execution_count": 59,
      "outputs": []
    },
    {
      "cell_type": "code",
      "metadata": {
        "id": "tfAnEdwT9JBt"
      },
      "source": [
        "x_test=pd.DataFrame(x_test)"
      ],
      "execution_count": 60,
      "outputs": []
    },
    {
      "cell_type": "code",
      "metadata": {
        "id": "9JYlSliM81hP"
      },
      "source": [
        "x_test=x_test.drop(columns=[1,2,4,6,7,8],axis=1)"
      ],
      "execution_count": 61,
      "outputs": []
    },
    {
      "cell_type": "code",
      "metadata": {
        "id": "Rd-qqNUx9Gwq"
      },
      "source": [
        "x_test=x_test.values"
      ],
      "execution_count": 62,
      "outputs": []
    },
    {
      "cell_type": "code",
      "metadata": {
        "id": "aIVV3jzC9Q3T"
      },
      "source": [
        "x_train=x_train.values"
      ],
      "execution_count": 63,
      "outputs": []
    },
    {
      "cell_type": "code",
      "metadata": {
        "id": "2cUtnrIm9Uos"
      },
      "source": [
        "from sklearn.linear_model import LinearRegression\n",
        "reg=LinearRegression()\n",
        "reg.fit(x_train,y_train)\n",
        "y_pred=reg.predict(x_test)"
      ],
      "execution_count": 64,
      "outputs": []
    },
    {
      "cell_type": "code",
      "metadata": {
        "colab": {
          "base_uri": "https://localhost:8080/"
        },
        "id": "WeGHm7DA9iFj",
        "outputId": "d6e541b8-e668-4af4-cc3a-d75153bed0e5"
      },
      "source": [
        "y_pred"
      ],
      "execution_count": 65,
      "outputs": [
        {
          "output_type": "execute_result",
          "data": {
            "text/plain": [
              "array([11962.30161108,  7767.63022882,  3857.81691214, ...,\n",
              "        7354.19066541, 16313.60478006, 26289.94242562])"
            ]
          },
          "metadata": {
            "tags": []
          },
          "execution_count": 65
        }
      ]
    },
    {
      "cell_type": "markdown",
      "metadata": {
        "id": "PXcXu3rpHSyV"
      },
      "source": [
        "# **Model Performance_Linear Regression**"
      ]
    },
    {
      "cell_type": "code",
      "metadata": {
        "id": "rkAAfAQZLlv7"
      },
      "source": [
        "# MSE\n",
        "from sklearn.metrics import  mean_squared_error\n",
        "Linear_Regression=mean_squared_error(y_pred,y_test)"
      ],
      "execution_count": 66,
      "outputs": []
    },
    {
      "cell_type": "code",
      "metadata": {
        "id": "mg-et3XU9jgE"
      },
      "source": [
        "# r2_score\n",
        "from sklearn.metrics import r2_score \n",
        "r2_score_Linear_Regressionr=r2_score(y_test, y_pred) "
      ],
      "execution_count": 67,
      "outputs": []
    }
  ]
}